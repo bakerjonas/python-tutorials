{
 "metadata": {
  "name": "Python basics"
 },
 "nbformat": 3,
 "nbformat_minor": 0,
 "worksheets": [
  {
   "cells": [
    {
     "cell_type": "code",
     "collapsed": false,
     "input": [
      "#\n",
      "# This file contains the code used in the slides by JJ.\n",
      "#\n",
      "# TODO: Turn into a ipython workbook"
     ],
     "language": "python",
     "metadata": {},
     "outputs": []
    },
    {
     "cell_type": "code",
     "collapsed": false,
     "input": [
      "x=1\n",
      "if x is None:\n",
      "    x=0\n",
      "    print 'Undefined, set to zero'\n",
      "elif x == 0:\n",
      "    print 'Zero'\n",
      "elif x < 0:\n",
      "    print 'Negtive'\n",
      "else:\n",
      "    print 'Positive'"
     ],
     "language": "python",
     "metadata": {},
     "outputs": []
    },
    {
     "cell_type": "code",
     "collapsed": false,
     "input": [
      "n=0\n",
      "while n < 100:\n",
      "    print 'All work and no play'\n",
      "    if n == 10:\n",
      "        n += 10\n",
      "        continue\n",
      "    elif n == 25:\n",
      "        break\n",
      "    n += 1\n"
     ],
     "language": "python",
     "metadata": {},
     "outputs": []
    },
    {
     "cell_type": "code",
     "collapsed": false,
     "input": [
      "foo = [1, 2, 75, 6, 7, 'tjohej!']\n",
      "for i in foo:\n",
      "    print i\n",
      "for i in range(100):\n",
      "    if i % 10 == 0:\n",
      "        print i\n",
      "else:\n",
      "    pass\n",
      "print range(1,10, 2)\n",
      "\n"
     ],
     "language": "python",
     "metadata": {},
     "outputs": []
    },
    {
     "cell_type": "code",
     "collapsed": false,
     "input": [
      "def foobar(x, y):\n",
      "    a=x+y\n",
      "    return a, a**2\n",
      "i, j = foobar(2,3)\n",
      "\n",
      "# Dynamic nature of Python:\n",
      "\n",
      "def raboof(x, y=5):\n",
      "    return x**y * raboof.foo\n",
      "raboof.foo = 0.1\n",
      "\n",
      "print raboof(2)\n",
      "\n"
     ],
     "language": "python",
     "metadata": {},
     "outputs": []
    },
    {
     "cell_type": "code",
     "collapsed": false,
     "input": [
      "#f = open('foo.txt', 'r')\n",
      "#print f.readlines()\n",
      "\n",
      "#g = open('bar.txt', 'w')\n",
      "\n",
      "#f.seek(0) # Rewind the file\n",
      "#for i in f:\n",
      "#    l = i.strip().split()\n",
      "#    if len(l) > 0:\n",
      "#        print >> g, l[0]\n",
      "#f.close()\n",
      "#g.close()\n",
      "\n"
     ],
     "language": "python",
     "metadata": {},
     "outputs": []
    },
    {
     "cell_type": "code",
     "collapsed": false,
     "input": [
      "import sys\n",
      "from os import environ\n",
      "import numpy as np\n",
      "\n",
      "print sys.path, environ['PATH']\n",
      "a = np.array([1, 2, 3])\n",
      "dir(sys)\n",
      "dir(a)\n",
      "dir(1)\n",
      "\n",
      " "
     ],
     "language": "python",
     "metadata": {},
     "outputs": []
    },
    {
     "cell_type": "code",
     "collapsed": false,
     "input": [
      "class Foobar:\n",
      "    bar = True\n",
      "    \n",
      "    def __init__(self, x):\n",
      "        self.foo = x\n",
      "\n",
      "    def __str__(self):\n",
      "        return 'Foobar is %d %r.' % (self.foo, self.bar)\n",
      "\n",
      "    def double(self):\n",
      "        self.foo *= 2\n",
      "        return self.foo\n",
      "\n"
     ],
     "language": "python",
     "metadata": {},
     "outputs": []
    },
    {
     "cell_type": "code",
     "collapsed": false,
     "input": [
      "a = Foobar(1)\n",
      "b = Foobar(42)\n",
      "print a, b # invokes __str__()\n",
      "print b.double()\n",
      "Foobar.bar = False # set global class variable\n",
      "print a, b\n",
      "\n"
     ],
     "language": "python",
     "metadata": {},
     "outputs": []
    },
    {
     "cell_type": "code",
     "collapsed": false,
     "input": [
      "import numpy as np\n",
      "a = np.array([1, 2, 3, 4])\n",
      "b = np.array([[1, 2], [3, 4]])\n",
      "c = np.zeros((5, 5))\n",
      "d = np.arange(0,4).reshape(2,2)\n",
      "e = np.ndarray((10, 10, 100), dtype='float')\n",
      "f = np.array(e)\n",
      "g = np.ones_like(d)\n",
      "\n",
      "print a\n",
      "print b\n",
      "print c\n",
      "print d\n",
      "print e\n",
      "print f\n",
      "print g\n",
      "\n"
     ],
     "language": "python",
     "metadata": {},
     "outputs": []
    },
    {
     "cell_type": "code",
     "collapsed": false,
     "input": [
      "a = np.random.rand(5,5)\n",
      "print a.shape\n",
      "print a.size\n",
      "print a.ndim\n",
      "print a.dtype.name\n",
      "print a\n",
      "\n"
     ],
     "language": "python",
     "metadata": {},
     "outputs": []
    },
    {
     "cell_type": "code",
     "collapsed": false,
     "input": [
      "a = np.arange(9).reshape(3,3)\n",
      "b = a**2\n",
      "c = a + b - 0.5 * a.transpose()\n",
      "d = b * c # element wise\n",
      "e = np.dot(c, d) # matrix multiplication\n",
      "f = np.sin(e)\n",
      "g=b<c\n",
      "a.sum()\n",
      "a.min()\n",
      "a.max()\n",
      "\n"
     ],
     "language": "python",
     "metadata": {},
     "outputs": []
    },
    {
     "cell_type": "code",
     "collapsed": false,
     "input": [
      "from numpy import linalg\n",
      "a = np.cos(np.arange(9).reshape(3,3))\n",
      "linalg.det(a)\n",
      "linalg.inv(a)\n",
      "linalg.eig(a)\n",
      "linalg.norm(a)\n",
      "linalg.svd(a)\n",
      "\n",
      "i = np.arange(3)\n",
      "a[i,i] += 2\n",
      "linalg.cholesky(a)\n",
      "\n"
     ],
     "language": "python",
     "metadata": {},
     "outputs": []
    },
    {
     "cell_type": "code",
     "collapsed": false,
     "input": [
      "a = np.random.rand(10,10)\n",
      "print a[3, 4]\n",
      "print a[1, :]\n",
      "print a[0:4, 6:9]\n",
      "for row in a:\n",
      "    print row\n",
      "\n",
      "for i in np.nditer(a):\n",
      "    print i"
     ],
     "language": "python",
     "metadata": {},
     "outputs": []
    },
    {
     "cell_type": "code",
     "collapsed": false,
     "input": [],
     "language": "python",
     "metadata": {},
     "outputs": []
    }
   ],
   "metadata": {}
  }
 ]
}
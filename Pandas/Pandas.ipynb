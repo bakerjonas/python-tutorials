{
 "metadata": {
  "name": "Pandas.ipynb"
 },
 "nbformat": 3,
 "nbformat_minor": 0,
 "worksheets": [
  {
   "cells": [
    {
     "cell_type": "heading",
     "level": 1,
     "metadata": {},
     "source": [
      "Short introduction to Pandas"
     ]
    },
    {
     "cell_type": "markdown",
     "metadata": {},
     "source": [
      "This is a short introduction to pandas, geared mainly for new users.\n",
      "You can see more complex recipes in the :ref:`Cookbook<cookbook>`\n",
      "\n",
      "Customarily, we import as follows"
     ]
    },
    {
     "cell_type": "code",
     "collapsed": false,
     "input": [
      "import pandas as pd\n",
      "import numpy as np\n",
      "import matplotlib.pyplot as plt"
     ],
     "language": "python",
     "metadata": {},
     "outputs": [],
     "prompt_number": 2
    },
    {
     "cell_type": "heading",
     "level": 2,
     "metadata": {},
     "source": [
      "Object Creation"
     ]
    },
    {
     "cell_type": "markdown",
     "metadata": {},
     "source": [
      "See the :ref:`Data Structure Intro section <dsintro>`\n",
      "\n",
      "Creating a ``Series`` by passing a list of values, letting pandas create a default\n",
      "integer index"
     ]
    },
    {
     "cell_type": "code",
     "collapsed": false,
     "input": [
      "s = pd.Series([1,3,5,np.nan,6,8])\n",
      "s"
     ],
     "language": "python",
     "metadata": {},
     "outputs": [
      {
       "metadata": {},
       "output_type": "pyout",
       "prompt_number": 3,
       "text": [
        "0     1\n",
        "1     3\n",
        "2     5\n",
        "3   NaN\n",
        "4     6\n",
        "5     8\n",
        "dtype: float64"
       ]
      }
     ],
     "prompt_number": 3
    },
    {
     "cell_type": "markdown",
     "metadata": {},
     "source": [
      "Creating a ``DataFrame`` by passing a numpy array, with a datetime index and labeled columns."
     ]
    },
    {
     "cell_type": "code",
     "collapsed": false,
     "input": [
      "dates = pd.date_range('20130101',periods=6)\n",
      "dates"
     ],
     "language": "python",
     "metadata": {},
     "outputs": [
      {
       "metadata": {},
       "output_type": "pyout",
       "prompt_number": 5,
       "text": [
        "<class 'pandas.tseries.index.DatetimeIndex'>\n",
        "[2013-01-01 00:00:00, ..., 2013-01-06 00:00:00]\n",
        "Length: 6, Freq: D, Timezone: None"
       ]
      }
     ],
     "prompt_number": 5
    },
    {
     "cell_type": "code",
     "collapsed": false,
     "input": [
      "df = pd.DataFrame(np.random.randn(6,4),index=dates,columns=list('ABCD'))\n",
      "df"
     ],
     "language": "python",
     "metadata": {},
     "outputs": [
      {
       "html": [
        "<div style=\"max-height:1000px;max-width:1500px;overflow:auto;\">\n",
        "<table border=\"1\" class=\"dataframe\">\n",
        "  <thead>\n",
        "    <tr style=\"text-align: right;\">\n",
        "      <th></th>\n",
        "      <th>A</th>\n",
        "      <th>B</th>\n",
        "      <th>C</th>\n",
        "      <th>D</th>\n",
        "    </tr>\n",
        "  </thead>\n",
        "  <tbody>\n",
        "    <tr>\n",
        "      <th>2013-01-01</th>\n",
        "      <td> 0.278000</td>\n",
        "      <td> 1.857702</td>\n",
        "      <td> 1.183654</td>\n",
        "      <td>-0.268334</td>\n",
        "    </tr>\n",
        "    <tr>\n",
        "      <th>2013-01-02</th>\n",
        "      <td> 1.699907</td>\n",
        "      <td>-1.016551</td>\n",
        "      <td> 1.169652</td>\n",
        "      <td>-0.196324</td>\n",
        "    </tr>\n",
        "    <tr>\n",
        "      <th>2013-01-03</th>\n",
        "      <td>-1.211398</td>\n",
        "      <td>-1.149496</td>\n",
        "      <td>-0.802234</td>\n",
        "      <td>-1.012624</td>\n",
        "    </tr>\n",
        "    <tr>\n",
        "      <th>2013-01-04</th>\n",
        "      <td> 0.812302</td>\n",
        "      <td> 1.107276</td>\n",
        "      <td> 1.261900</td>\n",
        "      <td> 0.341376</td>\n",
        "    </tr>\n",
        "    <tr>\n",
        "      <th>2013-01-05</th>\n",
        "      <td> 1.137782</td>\n",
        "      <td> 0.188424</td>\n",
        "      <td> 0.532045</td>\n",
        "      <td> 1.048452</td>\n",
        "    </tr>\n",
        "    <tr>\n",
        "      <th>2013-01-06</th>\n",
        "      <td> 1.224148</td>\n",
        "      <td>-0.262830</td>\n",
        "      <td>-0.706510</td>\n",
        "      <td>-0.617520</td>\n",
        "    </tr>\n",
        "  </tbody>\n",
        "</table>\n",
        "</div>"
       ],
       "metadata": {},
       "output_type": "pyout",
       "prompt_number": 6,
       "text": [
        "                   A         B         C         D\n",
        "2013-01-01  0.278000  1.857702  1.183654 -0.268334\n",
        "2013-01-02  1.699907 -1.016551  1.169652 -0.196324\n",
        "2013-01-03 -1.211398 -1.149496 -0.802234 -1.012624\n",
        "2013-01-04  0.812302  1.107276  1.261900  0.341376\n",
        "2013-01-05  1.137782  0.188424  0.532045  1.048452\n",
        "2013-01-06  1.224148 -0.262830 -0.706510 -0.617520"
       ]
      }
     ],
     "prompt_number": 6
    },
    {
     "cell_type": "markdown",
     "metadata": {},
     "source": [
      "Creating a ``DataFrame`` by passing a dict of objects that can be converted to series-like."
     ]
    },
    {
     "cell_type": "code",
     "collapsed": false,
     "input": [
      "df2 = pd.DataFrame({ 'A' : 1.,\n",
      "                     'B' : pd.Timestamp('20130102'),\n",
      "                     'C' : pd.Series(1,index=list(range(4)),dtype='float32'),\n",
      "                     'D' : np.array([3] * 4,dtype='int32'),\n",
      "                     'E' : 'foo' })\n",
      "df2"
     ],
     "language": "python",
     "metadata": {},
     "outputs": [
      {
       "html": [
        "<div style=\"max-height:1000px;max-width:1500px;overflow:auto;\">\n",
        "<table border=\"1\" class=\"dataframe\">\n",
        "  <thead>\n",
        "    <tr style=\"text-align: right;\">\n",
        "      <th></th>\n",
        "      <th>A</th>\n",
        "      <th>B</th>\n",
        "      <th>C</th>\n",
        "      <th>D</th>\n",
        "      <th>E</th>\n",
        "    </tr>\n",
        "  </thead>\n",
        "  <tbody>\n",
        "    <tr>\n",
        "      <th>0</th>\n",
        "      <td> 1</td>\n",
        "      <td>2013-01-02 00:00:00</td>\n",
        "      <td> 1</td>\n",
        "      <td> 3</td>\n",
        "      <td> foo</td>\n",
        "    </tr>\n",
        "    <tr>\n",
        "      <th>1</th>\n",
        "      <td> 1</td>\n",
        "      <td>2013-01-02 00:00:00</td>\n",
        "      <td> 1</td>\n",
        "      <td> 3</td>\n",
        "      <td> foo</td>\n",
        "    </tr>\n",
        "    <tr>\n",
        "      <th>2</th>\n",
        "      <td> 1</td>\n",
        "      <td>2013-01-02 00:00:00</td>\n",
        "      <td> 1</td>\n",
        "      <td> 3</td>\n",
        "      <td> foo</td>\n",
        "    </tr>\n",
        "    <tr>\n",
        "      <th>3</th>\n",
        "      <td> 1</td>\n",
        "      <td>2013-01-02 00:00:00</td>\n",
        "      <td> 1</td>\n",
        "      <td> 3</td>\n",
        "      <td> foo</td>\n",
        "    </tr>\n",
        "  </tbody>\n",
        "</table>\n",
        "</div>"
       ],
       "metadata": {},
       "output_type": "pyout",
       "prompt_number": 7,
       "text": [
        "   A                   B  C  D    E\n",
        "0  1 2013-01-02 00:00:00  1  3  foo\n",
        "1  1 2013-01-02 00:00:00  1  3  foo\n",
        "2  1 2013-01-02 00:00:00  1  3  foo\n",
        "3  1 2013-01-02 00:00:00  1  3  foo"
       ]
      }
     ],
     "prompt_number": 7
    },
    {
     "cell_type": "markdown",
     "metadata": {},
     "source": [
      "Having specific :ref:`dtypes <basics.dtypes>`"
     ]
    },
    {
     "cell_type": "code",
     "collapsed": false,
     "input": [
      "df2.dtypes"
     ],
     "language": "python",
     "metadata": {},
     "outputs": [
      {
       "metadata": {},
       "output_type": "pyout",
       "prompt_number": 8,
       "text": [
        "A           float64\n",
        "B    datetime64[ns]\n",
        "C           float32\n",
        "D             int32\n",
        "E            object\n",
        "dtype: object"
       ]
      }
     ],
     "prompt_number": 8
    },
    {
     "cell_type": "markdown",
     "metadata": {},
     "source": [
      "If you're using IPython, tab completion for column names (as well as public\n",
      "attributes) is automatically enabled."
     ]
    },
    {
     "cell_type": "heading",
     "level": 2,
     "metadata": {},
     "source": [
      "Viewing Data"
     ]
    },
    {
     "cell_type": "markdown",
     "metadata": {},
     "source": [
      "See the :ref:`Basics section <basics>`\n",
      "\n",
      "See the top & bottom rows of the frame"
     ]
    },
    {
     "cell_type": "code",
     "collapsed": false,
     "input": [
      "df.head()"
     ],
     "language": "python",
     "metadata": {},
     "outputs": [
      {
       "html": [
        "<div style=\"max-height:1000px;max-width:1500px;overflow:auto;\">\n",
        "<table border=\"1\" class=\"dataframe\">\n",
        "  <thead>\n",
        "    <tr style=\"text-align: right;\">\n",
        "      <th></th>\n",
        "      <th>A</th>\n",
        "      <th>B</th>\n",
        "      <th>C</th>\n",
        "      <th>D</th>\n",
        "    </tr>\n",
        "  </thead>\n",
        "  <tbody>\n",
        "    <tr>\n",
        "      <th>2013-01-01</th>\n",
        "      <td> 0.278000</td>\n",
        "      <td> 1.857702</td>\n",
        "      <td> 1.183654</td>\n",
        "      <td>-0.268334</td>\n",
        "    </tr>\n",
        "    <tr>\n",
        "      <th>2013-01-02</th>\n",
        "      <td> 1.699907</td>\n",
        "      <td>-1.016551</td>\n",
        "      <td> 1.169652</td>\n",
        "      <td>-0.196324</td>\n",
        "    </tr>\n",
        "    <tr>\n",
        "      <th>2013-01-03</th>\n",
        "      <td>-1.211398</td>\n",
        "      <td>-1.149496</td>\n",
        "      <td>-0.802234</td>\n",
        "      <td>-1.012624</td>\n",
        "    </tr>\n",
        "    <tr>\n",
        "      <th>2013-01-04</th>\n",
        "      <td> 0.812302</td>\n",
        "      <td> 1.107276</td>\n",
        "      <td> 1.261900</td>\n",
        "      <td> 0.341376</td>\n",
        "    </tr>\n",
        "    <tr>\n",
        "      <th>2013-01-05</th>\n",
        "      <td> 1.137782</td>\n",
        "      <td> 0.188424</td>\n",
        "      <td> 0.532045</td>\n",
        "      <td> 1.048452</td>\n",
        "    </tr>\n",
        "  </tbody>\n",
        "</table>\n",
        "</div>"
       ],
       "metadata": {},
       "output_type": "pyout",
       "prompt_number": 10,
       "text": [
        "                   A         B         C         D\n",
        "2013-01-01  0.278000  1.857702  1.183654 -0.268334\n",
        "2013-01-02  1.699907 -1.016551  1.169652 -0.196324\n",
        "2013-01-03 -1.211398 -1.149496 -0.802234 -1.012624\n",
        "2013-01-04  0.812302  1.107276  1.261900  0.341376\n",
        "2013-01-05  1.137782  0.188424  0.532045  1.048452"
       ]
      }
     ],
     "prompt_number": 10
    },
    {
     "cell_type": "code",
     "collapsed": false,
     "input": [
      "df.tail(3)"
     ],
     "language": "python",
     "metadata": {},
     "outputs": [
      {
       "html": [
        "<div style=\"max-height:1000px;max-width:1500px;overflow:auto;\">\n",
        "<table border=\"1\" class=\"dataframe\">\n",
        "  <thead>\n",
        "    <tr style=\"text-align: right;\">\n",
        "      <th></th>\n",
        "      <th>A</th>\n",
        "      <th>B</th>\n",
        "      <th>C</th>\n",
        "      <th>D</th>\n",
        "    </tr>\n",
        "  </thead>\n",
        "  <tbody>\n",
        "    <tr>\n",
        "      <th>2013-01-04</th>\n",
        "      <td> 0.812302</td>\n",
        "      <td> 1.107276</td>\n",
        "      <td> 1.261900</td>\n",
        "      <td> 0.341376</td>\n",
        "    </tr>\n",
        "    <tr>\n",
        "      <th>2013-01-05</th>\n",
        "      <td> 1.137782</td>\n",
        "      <td> 0.188424</td>\n",
        "      <td> 0.532045</td>\n",
        "      <td> 1.048452</td>\n",
        "    </tr>\n",
        "    <tr>\n",
        "      <th>2013-01-06</th>\n",
        "      <td> 1.224148</td>\n",
        "      <td>-0.262830</td>\n",
        "      <td>-0.706510</td>\n",
        "      <td>-0.617520</td>\n",
        "    </tr>\n",
        "  </tbody>\n",
        "</table>\n",
        "</div>"
       ],
       "metadata": {},
       "output_type": "pyout",
       "prompt_number": 11,
       "text": [
        "                   A         B         C         D\n",
        "2013-01-04  0.812302  1.107276  1.261900  0.341376\n",
        "2013-01-05  1.137782  0.188424  0.532045  1.048452\n",
        "2013-01-06  1.224148 -0.262830 -0.706510 -0.617520"
       ]
      }
     ],
     "prompt_number": 11
    },
    {
     "cell_type": "markdown",
     "metadata": {},
     "source": [
      "Display the index,columns, and the underlying numpy data"
     ]
    },
    {
     "cell_type": "code",
     "collapsed": false,
     "input": [
      "df.index"
     ],
     "language": "python",
     "metadata": {},
     "outputs": [
      {
       "metadata": {},
       "output_type": "pyout",
       "prompt_number": 12,
       "text": [
        "<class 'pandas.tseries.index.DatetimeIndex'>\n",
        "[2013-01-01 00:00:00, ..., 2013-01-06 00:00:00]\n",
        "Length: 6, Freq: D, Timezone: None"
       ]
      }
     ],
     "prompt_number": 12
    },
    {
     "cell_type": "code",
     "collapsed": false,
     "input": [
      "df.columns"
     ],
     "language": "python",
     "metadata": {},
     "outputs": [
      {
       "metadata": {},
       "output_type": "pyout",
       "prompt_number": 13,
       "text": [
        "Index([u'A', u'B', u'C', u'D'], dtype=object)"
       ]
      }
     ],
     "prompt_number": 13
    },
    {
     "cell_type": "code",
     "collapsed": false,
     "input": [
      "df.values"
     ],
     "language": "python",
     "metadata": {},
     "outputs": [
      {
       "metadata": {},
       "output_type": "pyout",
       "prompt_number": 14,
       "text": [
        "array([[ 0.27799981,  1.85770156,  1.18365432, -0.26833427],\n",
        "       [ 1.69990703, -1.01655123,  1.16965199, -0.19632406],\n",
        "       [-1.21139799, -1.14949577, -0.80223428, -1.01262362],\n",
        "       [ 0.81230178,  1.10727586,  1.26190004,  0.34137589],\n",
        "       [ 1.1377823 ,  0.18842388,  0.5320454 ,  1.04845216],\n",
        "       [ 1.22414774, -0.26282999, -0.70650972, -0.61752018]])"
       ]
      }
     ],
     "prompt_number": 14
    },
    {
     "cell_type": "markdown",
     "metadata": {},
     "source": [
      "Describe shows a quick statistic summary of your data"
     ]
    },
    {
     "cell_type": "code",
     "collapsed": false,
     "input": [
      "df.describe()"
     ],
     "language": "python",
     "metadata": {},
     "outputs": [
      {
       "html": [
        "<div style=\"max-height:1000px;max-width:1500px;overflow:auto;\">\n",
        "<table border=\"1\" class=\"dataframe\">\n",
        "  <thead>\n",
        "    <tr style=\"text-align: right;\">\n",
        "      <th></th>\n",
        "      <th>A</th>\n",
        "      <th>B</th>\n",
        "      <th>C</th>\n",
        "      <th>D</th>\n",
        "    </tr>\n",
        "  </thead>\n",
        "  <tbody>\n",
        "    <tr>\n",
        "      <th>count</th>\n",
        "      <td> 6.000000</td>\n",
        "      <td> 6.000000</td>\n",
        "      <td> 6.000000</td>\n",
        "      <td> 6.000000</td>\n",
        "    </tr>\n",
        "    <tr>\n",
        "      <th>mean</th>\n",
        "      <td> 0.656790</td>\n",
        "      <td> 0.120754</td>\n",
        "      <td> 0.439751</td>\n",
        "      <td>-0.117496</td>\n",
        "    </tr>\n",
        "    <tr>\n",
        "      <th>std</th>\n",
        "      <td> 1.029479</td>\n",
        "      <td> 1.187344</td>\n",
        "      <td> 0.961981</td>\n",
        "      <td> 0.728044</td>\n",
        "    </tr>\n",
        "    <tr>\n",
        "      <th>min</th>\n",
        "      <td>-1.211398</td>\n",
        "      <td>-1.149496</td>\n",
        "      <td>-0.802234</td>\n",
        "      <td>-1.012624</td>\n",
        "    </tr>\n",
        "    <tr>\n",
        "      <th>25%</th>\n",
        "      <td> 0.411575</td>\n",
        "      <td>-0.828121</td>\n",
        "      <td>-0.396871</td>\n",
        "      <td>-0.530224</td>\n",
        "    </tr>\n",
        "    <tr>\n",
        "      <th>50%</th>\n",
        "      <td> 0.975042</td>\n",
        "      <td>-0.037203</td>\n",
        "      <td> 0.850849</td>\n",
        "      <td>-0.232329</td>\n",
        "    </tr>\n",
        "    <tr>\n",
        "      <th>75%</th>\n",
        "      <td> 1.202556</td>\n",
        "      <td> 0.877563</td>\n",
        "      <td> 1.180154</td>\n",
        "      <td> 0.206951</td>\n",
        "    </tr>\n",
        "    <tr>\n",
        "      <th>max</th>\n",
        "      <td> 1.699907</td>\n",
        "      <td> 1.857702</td>\n",
        "      <td> 1.261900</td>\n",
        "      <td> 1.048452</td>\n",
        "    </tr>\n",
        "  </tbody>\n",
        "</table>\n",
        "</div>"
       ],
       "metadata": {},
       "output_type": "pyout",
       "prompt_number": 16,
       "text": [
        "              A         B         C         D\n",
        "count  6.000000  6.000000  6.000000  6.000000\n",
        "mean   0.656790  0.120754  0.439751 -0.117496\n",
        "std    1.029479  1.187344  0.961981  0.728044\n",
        "min   -1.211398 -1.149496 -0.802234 -1.012624\n",
        "25%    0.411575 -0.828121 -0.396871 -0.530224\n",
        "50%    0.975042 -0.037203  0.850849 -0.232329\n",
        "75%    1.202556  0.877563  1.180154  0.206951\n",
        "max    1.699907  1.857702  1.261900  1.048452"
       ]
      }
     ],
     "prompt_number": 16
    },
    {
     "cell_type": "markdown",
     "metadata": {},
     "source": [
      "Transposing your data"
     ]
    },
    {
     "cell_type": "code",
     "collapsed": false,
     "input": [
      "df.T"
     ],
     "language": "python",
     "metadata": {},
     "outputs": [
      {
       "html": [
        "<div style=\"max-height:1000px;max-width:1500px;overflow:auto;\">\n",
        "<table border=\"1\" class=\"dataframe\">\n",
        "  <thead>\n",
        "    <tr style=\"text-align: right;\">\n",
        "      <th></th>\n",
        "      <th>2013-01-01 00:00:00</th>\n",
        "      <th>2013-01-02 00:00:00</th>\n",
        "      <th>2013-01-03 00:00:00</th>\n",
        "      <th>2013-01-04 00:00:00</th>\n",
        "      <th>2013-01-05 00:00:00</th>\n",
        "      <th>2013-01-06 00:00:00</th>\n",
        "    </tr>\n",
        "  </thead>\n",
        "  <tbody>\n",
        "    <tr>\n",
        "      <th>A</th>\n",
        "      <td> 0.278000</td>\n",
        "      <td> 1.699907</td>\n",
        "      <td>-1.211398</td>\n",
        "      <td> 0.812302</td>\n",
        "      <td> 1.137782</td>\n",
        "      <td> 1.224148</td>\n",
        "    </tr>\n",
        "    <tr>\n",
        "      <th>B</th>\n",
        "      <td> 1.857702</td>\n",
        "      <td>-1.016551</td>\n",
        "      <td>-1.149496</td>\n",
        "      <td> 1.107276</td>\n",
        "      <td> 0.188424</td>\n",
        "      <td>-0.262830</td>\n",
        "    </tr>\n",
        "    <tr>\n",
        "      <th>C</th>\n",
        "      <td> 1.183654</td>\n",
        "      <td> 1.169652</td>\n",
        "      <td>-0.802234</td>\n",
        "      <td> 1.261900</td>\n",
        "      <td> 0.532045</td>\n",
        "      <td>-0.706510</td>\n",
        "    </tr>\n",
        "    <tr>\n",
        "      <th>D</th>\n",
        "      <td>-0.268334</td>\n",
        "      <td>-0.196324</td>\n",
        "      <td>-1.012624</td>\n",
        "      <td> 0.341376</td>\n",
        "      <td> 1.048452</td>\n",
        "      <td>-0.617520</td>\n",
        "    </tr>\n",
        "  </tbody>\n",
        "</table>\n",
        "</div>"
       ],
       "metadata": {},
       "output_type": "pyout",
       "prompt_number": 17,
       "text": [
        "   2013-01-01  2013-01-02  2013-01-03  2013-01-04  2013-01-05  2013-01-06\n",
        "A    0.278000    1.699907   -1.211398    0.812302    1.137782    1.224148\n",
        "B    1.857702   -1.016551   -1.149496    1.107276    0.188424   -0.262830\n",
        "C    1.183654    1.169652   -0.802234    1.261900    0.532045   -0.706510\n",
        "D   -0.268334   -0.196324   -1.012624    0.341376    1.048452   -0.617520"
       ]
      }
     ],
     "prompt_number": 17
    },
    {
     "cell_type": "markdown",
     "metadata": {},
     "source": [
      "Sorting by an axis"
     ]
    },
    {
     "cell_type": "code",
     "collapsed": false,
     "input": [
      "df.sort_index(axis=1, ascending=False)"
     ],
     "language": "python",
     "metadata": {},
     "outputs": [
      {
       "html": [
        "<div style=\"max-height:1000px;max-width:1500px;overflow:auto;\">\n",
        "<table border=\"1\" class=\"dataframe\">\n",
        "  <thead>\n",
        "    <tr style=\"text-align: right;\">\n",
        "      <th></th>\n",
        "      <th>D</th>\n",
        "      <th>C</th>\n",
        "      <th>B</th>\n",
        "      <th>A</th>\n",
        "    </tr>\n",
        "  </thead>\n",
        "  <tbody>\n",
        "    <tr>\n",
        "      <th>2013-01-01</th>\n",
        "      <td>-0.268334</td>\n",
        "      <td> 1.183654</td>\n",
        "      <td> 1.857702</td>\n",
        "      <td> 0.278000</td>\n",
        "    </tr>\n",
        "    <tr>\n",
        "      <th>2013-01-02</th>\n",
        "      <td>-0.196324</td>\n",
        "      <td> 1.169652</td>\n",
        "      <td>-1.016551</td>\n",
        "      <td> 1.699907</td>\n",
        "    </tr>\n",
        "    <tr>\n",
        "      <th>2013-01-03</th>\n",
        "      <td>-1.012624</td>\n",
        "      <td>-0.802234</td>\n",
        "      <td>-1.149496</td>\n",
        "      <td>-1.211398</td>\n",
        "    </tr>\n",
        "    <tr>\n",
        "      <th>2013-01-04</th>\n",
        "      <td> 0.341376</td>\n",
        "      <td> 1.261900</td>\n",
        "      <td> 1.107276</td>\n",
        "      <td> 0.812302</td>\n",
        "    </tr>\n",
        "    <tr>\n",
        "      <th>2013-01-05</th>\n",
        "      <td> 1.048452</td>\n",
        "      <td> 0.532045</td>\n",
        "      <td> 0.188424</td>\n",
        "      <td> 1.137782</td>\n",
        "    </tr>\n",
        "    <tr>\n",
        "      <th>2013-01-06</th>\n",
        "      <td>-0.617520</td>\n",
        "      <td>-0.706510</td>\n",
        "      <td>-0.262830</td>\n",
        "      <td> 1.224148</td>\n",
        "    </tr>\n",
        "  </tbody>\n",
        "</table>\n",
        "</div>"
       ],
       "metadata": {},
       "output_type": "pyout",
       "prompt_number": 18,
       "text": [
        "                   D         C         B         A\n",
        "2013-01-01 -0.268334  1.183654  1.857702  0.278000\n",
        "2013-01-02 -0.196324  1.169652 -1.016551  1.699907\n",
        "2013-01-03 -1.012624 -0.802234 -1.149496 -1.211398\n",
        "2013-01-04  0.341376  1.261900  1.107276  0.812302\n",
        "2013-01-05  1.048452  0.532045  0.188424  1.137782\n",
        "2013-01-06 -0.617520 -0.706510 -0.262830  1.224148"
       ]
      }
     ],
     "prompt_number": 18
    },
    {
     "cell_type": "markdown",
     "metadata": {},
     "source": [
      "Sorting by values"
     ]
    },
    {
     "cell_type": "code",
     "collapsed": false,
     "input": [
      "df.sort(columns='B')"
     ],
     "language": "python",
     "metadata": {},
     "outputs": [
      {
       "html": [
        "<div style=\"max-height:1000px;max-width:1500px;overflow:auto;\">\n",
        "<table border=\"1\" class=\"dataframe\">\n",
        "  <thead>\n",
        "    <tr style=\"text-align: right;\">\n",
        "      <th></th>\n",
        "      <th>A</th>\n",
        "      <th>B</th>\n",
        "      <th>C</th>\n",
        "      <th>D</th>\n",
        "    </tr>\n",
        "  </thead>\n",
        "  <tbody>\n",
        "    <tr>\n",
        "      <th>2013-01-03</th>\n",
        "      <td>-1.211398</td>\n",
        "      <td>-1.149496</td>\n",
        "      <td>-0.802234</td>\n",
        "      <td>-1.012624</td>\n",
        "    </tr>\n",
        "    <tr>\n",
        "      <th>2013-01-02</th>\n",
        "      <td> 1.699907</td>\n",
        "      <td>-1.016551</td>\n",
        "      <td> 1.169652</td>\n",
        "      <td>-0.196324</td>\n",
        "    </tr>\n",
        "    <tr>\n",
        "      <th>2013-01-06</th>\n",
        "      <td> 1.224148</td>\n",
        "      <td>-0.262830</td>\n",
        "      <td>-0.706510</td>\n",
        "      <td>-0.617520</td>\n",
        "    </tr>\n",
        "    <tr>\n",
        "      <th>2013-01-05</th>\n",
        "      <td> 1.137782</td>\n",
        "      <td> 0.188424</td>\n",
        "      <td> 0.532045</td>\n",
        "      <td> 1.048452</td>\n",
        "    </tr>\n",
        "    <tr>\n",
        "      <th>2013-01-04</th>\n",
        "      <td> 0.812302</td>\n",
        "      <td> 1.107276</td>\n",
        "      <td> 1.261900</td>\n",
        "      <td> 0.341376</td>\n",
        "    </tr>\n",
        "    <tr>\n",
        "      <th>2013-01-01</th>\n",
        "      <td> 0.278000</td>\n",
        "      <td> 1.857702</td>\n",
        "      <td> 1.183654</td>\n",
        "      <td>-0.268334</td>\n",
        "    </tr>\n",
        "  </tbody>\n",
        "</table>\n",
        "</div>"
       ],
       "metadata": {},
       "output_type": "pyout",
       "prompt_number": 19,
       "text": [
        "                   A         B         C         D\n",
        "2013-01-03 -1.211398 -1.149496 -0.802234 -1.012624\n",
        "2013-01-02  1.699907 -1.016551  1.169652 -0.196324\n",
        "2013-01-06  1.224148 -0.262830 -0.706510 -0.617520\n",
        "2013-01-05  1.137782  0.188424  0.532045  1.048452\n",
        "2013-01-04  0.812302  1.107276  1.261900  0.341376\n",
        "2013-01-01  0.278000  1.857702  1.183654 -0.268334"
       ]
      }
     ],
     "prompt_number": 19
    },
    {
     "cell_type": "heading",
     "level": 2,
     "metadata": {},
     "source": [
      "Selection"
     ]
    },
    {
     "cell_type": "markdown",
     "metadata": {},
     "source": [
      "While standard Python / Numpy expressions for selecting and setting are\n",
      "intuitive and come in handy for interactive work, for production code, we\n",
      "recommend the optimized pandas data access methods, ``.at``, ``.iat``,\n",
      "``.loc``, ``.iloc`` and ``.ix``.\n",
      "\n",
      "See the :ref:`Indexing section <indexing>` and below."
     ]
    },
    {
     "cell_type": "heading",
     "level": 3,
     "metadata": {},
     "source": [
      "Getting"
     ]
    },
    {
     "cell_type": "markdown",
     "metadata": {},
     "source": [
      "Selecting a single column, which yields a ``Series``,\n",
      "equivalent to ``df.A``"
     ]
    },
    {
     "cell_type": "code",
     "collapsed": false,
     "input": [
      "df['A']"
     ],
     "language": "python",
     "metadata": {},
     "outputs": [
      {
       "metadata": {},
       "output_type": "pyout",
       "prompt_number": 20,
       "text": [
        "2013-01-01    0.278000\n",
        "2013-01-02    1.699907\n",
        "2013-01-03   -1.211398\n",
        "2013-01-04    0.812302\n",
        "2013-01-05    1.137782\n",
        "2013-01-06    1.224148\n",
        "Freq: D, Name: A, dtype: float64"
       ]
      }
     ],
     "prompt_number": 20
    },
    {
     "cell_type": "markdown",
     "metadata": {},
     "source": [
      "Selecting via ``[]``, which slices the rows."
     ]
    },
    {
     "cell_type": "code",
     "collapsed": false,
     "input": [
      "df[0:3]"
     ],
     "language": "python",
     "metadata": {},
     "outputs": [
      {
       "html": [
        "<div style=\"max-height:1000px;max-width:1500px;overflow:auto;\">\n",
        "<table border=\"1\" class=\"dataframe\">\n",
        "  <thead>\n",
        "    <tr style=\"text-align: right;\">\n",
        "      <th></th>\n",
        "      <th>A</th>\n",
        "      <th>B</th>\n",
        "      <th>C</th>\n",
        "      <th>D</th>\n",
        "    </tr>\n",
        "  </thead>\n",
        "  <tbody>\n",
        "    <tr>\n",
        "      <th>2013-01-01</th>\n",
        "      <td> 0.278000</td>\n",
        "      <td> 1.857702</td>\n",
        "      <td> 1.183654</td>\n",
        "      <td>-0.268334</td>\n",
        "    </tr>\n",
        "    <tr>\n",
        "      <th>2013-01-02</th>\n",
        "      <td> 1.699907</td>\n",
        "      <td>-1.016551</td>\n",
        "      <td> 1.169652</td>\n",
        "      <td>-0.196324</td>\n",
        "    </tr>\n",
        "    <tr>\n",
        "      <th>2013-01-03</th>\n",
        "      <td>-1.211398</td>\n",
        "      <td>-1.149496</td>\n",
        "      <td>-0.802234</td>\n",
        "      <td>-1.012624</td>\n",
        "    </tr>\n",
        "  </tbody>\n",
        "</table>\n",
        "</div>"
       ],
       "metadata": {},
       "output_type": "pyout",
       "prompt_number": 21,
       "text": [
        "                   A         B         C         D\n",
        "2013-01-01  0.278000  1.857702  1.183654 -0.268334\n",
        "2013-01-02  1.699907 -1.016551  1.169652 -0.196324\n",
        "2013-01-03 -1.211398 -1.149496 -0.802234 -1.012624"
       ]
      }
     ],
     "prompt_number": 21
    },
    {
     "cell_type": "code",
     "collapsed": false,
     "input": [
      "df['20130102':'20130104']"
     ],
     "language": "python",
     "metadata": {},
     "outputs": [
      {
       "html": [
        "<div style=\"max-height:1000px;max-width:1500px;overflow:auto;\">\n",
        "<table border=\"1\" class=\"dataframe\">\n",
        "  <thead>\n",
        "    <tr style=\"text-align: right;\">\n",
        "      <th></th>\n",
        "      <th>A</th>\n",
        "      <th>B</th>\n",
        "      <th>C</th>\n",
        "      <th>D</th>\n",
        "    </tr>\n",
        "  </thead>\n",
        "  <tbody>\n",
        "    <tr>\n",
        "      <th>2013-01-02</th>\n",
        "      <td> 1.699907</td>\n",
        "      <td>-1.016551</td>\n",
        "      <td> 1.169652</td>\n",
        "      <td>-0.196324</td>\n",
        "    </tr>\n",
        "    <tr>\n",
        "      <th>2013-01-03</th>\n",
        "      <td>-1.211398</td>\n",
        "      <td>-1.149496</td>\n",
        "      <td>-0.802234</td>\n",
        "      <td>-1.012624</td>\n",
        "    </tr>\n",
        "    <tr>\n",
        "      <th>2013-01-04</th>\n",
        "      <td> 0.812302</td>\n",
        "      <td> 1.107276</td>\n",
        "      <td> 1.261900</td>\n",
        "      <td> 0.341376</td>\n",
        "    </tr>\n",
        "  </tbody>\n",
        "</table>\n",
        "</div>"
       ],
       "metadata": {},
       "output_type": "pyout",
       "prompt_number": 22,
       "text": [
        "                   A         B         C         D\n",
        "2013-01-02  1.699907 -1.016551  1.169652 -0.196324\n",
        "2013-01-03 -1.211398 -1.149496 -0.802234 -1.012624\n",
        "2013-01-04  0.812302  1.107276  1.261900  0.341376"
       ]
      }
     ],
     "prompt_number": 22
    },
    {
     "cell_type": "heading",
     "level": 3,
     "metadata": {},
     "source": [
      "Selection by Label"
     ]
    },
    {
     "cell_type": "markdown",
     "metadata": {},
     "source": [
      "See more in :ref:`Selection by Label <indexing.label>`\n",
      "\n",
      "For getting a cross section using a label"
     ]
    },
    {
     "cell_type": "code",
     "collapsed": false,
     "input": [
      "df.loc[dates[0]]"
     ],
     "language": "python",
     "metadata": {},
     "outputs": [
      {
       "metadata": {},
       "output_type": "pyout",
       "prompt_number": 23,
       "text": [
        "A    0.278000\n",
        "B    1.857702\n",
        "C    1.183654\n",
        "D   -0.268334\n",
        "Name: 2013-01-01 00:00:00, dtype: float64"
       ]
      }
     ],
     "prompt_number": 23
    },
    {
     "cell_type": "markdown",
     "metadata": {},
     "source": [
      "Selecting on a multi-axis by label"
     ]
    },
    {
     "cell_type": "code",
     "collapsed": false,
     "input": [
      "df.loc[:,['A','B']]"
     ],
     "language": "python",
     "metadata": {},
     "outputs": [
      {
       "html": [
        "<div style=\"max-height:1000px;max-width:1500px;overflow:auto;\">\n",
        "<table border=\"1\" class=\"dataframe\">\n",
        "  <thead>\n",
        "    <tr style=\"text-align: right;\">\n",
        "      <th></th>\n",
        "      <th>A</th>\n",
        "      <th>B</th>\n",
        "    </tr>\n",
        "  </thead>\n",
        "  <tbody>\n",
        "    <tr>\n",
        "      <th>2013-01-01</th>\n",
        "      <td> 0.278000</td>\n",
        "      <td> 1.857702</td>\n",
        "    </tr>\n",
        "    <tr>\n",
        "      <th>2013-01-02</th>\n",
        "      <td> 1.699907</td>\n",
        "      <td>-1.016551</td>\n",
        "    </tr>\n",
        "    <tr>\n",
        "      <th>2013-01-03</th>\n",
        "      <td>-1.211398</td>\n",
        "      <td>-1.149496</td>\n",
        "    </tr>\n",
        "    <tr>\n",
        "      <th>2013-01-04</th>\n",
        "      <td> 0.812302</td>\n",
        "      <td> 1.107276</td>\n",
        "    </tr>\n",
        "    <tr>\n",
        "      <th>2013-01-05</th>\n",
        "      <td> 1.137782</td>\n",
        "      <td> 0.188424</td>\n",
        "    </tr>\n",
        "    <tr>\n",
        "      <th>2013-01-06</th>\n",
        "      <td> 1.224148</td>\n",
        "      <td>-0.262830</td>\n",
        "    </tr>\n",
        "  </tbody>\n",
        "</table>\n",
        "</div>"
       ],
       "metadata": {},
       "output_type": "pyout",
       "prompt_number": 24,
       "text": [
        "                   A         B\n",
        "2013-01-01  0.278000  1.857702\n",
        "2013-01-02  1.699907 -1.016551\n",
        "2013-01-03 -1.211398 -1.149496\n",
        "2013-01-04  0.812302  1.107276\n",
        "2013-01-05  1.137782  0.188424\n",
        "2013-01-06  1.224148 -0.262830"
       ]
      }
     ],
     "prompt_number": 24
    },
    {
     "cell_type": "markdown",
     "metadata": {},
     "source": [
      "Showing label slicing, both endpoints are *included*"
     ]
    },
    {
     "cell_type": "code",
     "collapsed": false,
     "input": [
      "df.loc['20130102':'20130104',['A','B']]"
     ],
     "language": "python",
     "metadata": {},
     "outputs": [
      {
       "html": [
        "<div style=\"max-height:1000px;max-width:1500px;overflow:auto;\">\n",
        "<table border=\"1\" class=\"dataframe\">\n",
        "  <thead>\n",
        "    <tr style=\"text-align: right;\">\n",
        "      <th></th>\n",
        "      <th>A</th>\n",
        "      <th>B</th>\n",
        "    </tr>\n",
        "  </thead>\n",
        "  <tbody>\n",
        "    <tr>\n",
        "      <th>2013-01-02</th>\n",
        "      <td> 1.699907</td>\n",
        "      <td>-1.016551</td>\n",
        "    </tr>\n",
        "    <tr>\n",
        "      <th>2013-01-03</th>\n",
        "      <td>-1.211398</td>\n",
        "      <td>-1.149496</td>\n",
        "    </tr>\n",
        "    <tr>\n",
        "      <th>2013-01-04</th>\n",
        "      <td> 0.812302</td>\n",
        "      <td> 1.107276</td>\n",
        "    </tr>\n",
        "  </tbody>\n",
        "</table>\n",
        "</div>"
       ],
       "metadata": {},
       "output_type": "pyout",
       "prompt_number": 25,
       "text": [
        "                   A         B\n",
        "2013-01-02  1.699907 -1.016551\n",
        "2013-01-03 -1.211398 -1.149496\n",
        "2013-01-04  0.812302  1.107276"
       ]
      }
     ],
     "prompt_number": 25
    },
    {
     "cell_type": "markdown",
     "metadata": {},
     "source": [
      "Reduction in the dimensions of the returned object"
     ]
    },
    {
     "cell_type": "code",
     "collapsed": false,
     "input": [
      "df.loc['20130102',['A','B']]"
     ],
     "language": "python",
     "metadata": {},
     "outputs": [
      {
       "metadata": {},
       "output_type": "pyout",
       "prompt_number": 26,
       "text": [
        "A    1.699907\n",
        "B   -1.016551\n",
        "Name: 2013-01-02 00:00:00, dtype: float64"
       ]
      }
     ],
     "prompt_number": 26
    },
    {
     "cell_type": "markdown",
     "metadata": {},
     "source": [
      "For getting a scalar value"
     ]
    },
    {
     "cell_type": "code",
     "collapsed": false,
     "input": [
      "df.loc[dates[0],'A']"
     ],
     "language": "python",
     "metadata": {},
     "outputs": [
      {
       "metadata": {},
       "output_type": "pyout",
       "prompt_number": 27,
       "text": [
        "0.2779998058259705"
       ]
      }
     ],
     "prompt_number": 27
    },
    {
     "cell_type": "markdown",
     "metadata": {},
     "source": [
      "For getting fast access to a scalar (equiv to the prior method)"
     ]
    },
    {
     "cell_type": "code",
     "collapsed": false,
     "input": [
      "df.at[dates[0],'A']"
     ],
     "language": "python",
     "metadata": {},
     "outputs": [
      {
       "metadata": {},
       "output_type": "pyout",
       "prompt_number": 28,
       "text": [
        "0.2779998058259705"
       ]
      }
     ],
     "prompt_number": 28
    },
    {
     "cell_type": "heading",
     "level": 3,
     "metadata": {},
     "source": [
      "Selection by Position"
     ]
    },
    {
     "cell_type": "markdown",
     "metadata": {},
     "source": [
      "See more in :ref:`Selection by Position <indexing.integer>`\n",
      "Select via the position of the passed integers\n",
      "\n"
     ]
    },
    {
     "cell_type": "code",
     "collapsed": false,
     "input": [
      "df.iloc[3]"
     ],
     "language": "python",
     "metadata": {},
     "outputs": [
      {
       "metadata": {},
       "output_type": "pyout",
       "prompt_number": 29,
       "text": [
        "A    0.812302\n",
        "B    1.107276\n",
        "C    1.261900\n",
        "D    0.341376\n",
        "Name: 2013-01-04 00:00:00, dtype: float64"
       ]
      }
     ],
     "prompt_number": 29
    },
    {
     "cell_type": "markdown",
     "metadata": {},
     "source": [
      "By integer slices, acting similar to numpy/python"
     ]
    },
    {
     "cell_type": "code",
     "collapsed": false,
     "input": [
      "df.iloc[3:5,0:2]"
     ],
     "language": "python",
     "metadata": {},
     "outputs": [
      {
       "html": [
        "<div style=\"max-height:1000px;max-width:1500px;overflow:auto;\">\n",
        "<table border=\"1\" class=\"dataframe\">\n",
        "  <thead>\n",
        "    <tr style=\"text-align: right;\">\n",
        "      <th></th>\n",
        "      <th>A</th>\n",
        "      <th>B</th>\n",
        "    </tr>\n",
        "  </thead>\n",
        "  <tbody>\n",
        "    <tr>\n",
        "      <th>2013-01-04</th>\n",
        "      <td> 0.812302</td>\n",
        "      <td> 1.107276</td>\n",
        "    </tr>\n",
        "    <tr>\n",
        "      <th>2013-01-05</th>\n",
        "      <td> 1.137782</td>\n",
        "      <td> 0.188424</td>\n",
        "    </tr>\n",
        "  </tbody>\n",
        "</table>\n",
        "</div>"
       ],
       "metadata": {},
       "output_type": "pyout",
       "prompt_number": 30,
       "text": [
        "                   A         B\n",
        "2013-01-04  0.812302  1.107276\n",
        "2013-01-05  1.137782  0.188424"
       ]
      }
     ],
     "prompt_number": 30
    },
    {
     "cell_type": "markdown",
     "metadata": {},
     "source": [
      "By lists of integer position locations, similar to the numpy/python style"
     ]
    },
    {
     "cell_type": "code",
     "collapsed": false,
     "input": [
      "df.iloc[[1,2,4],[0,2]]"
     ],
     "language": "python",
     "metadata": {},
     "outputs": [
      {
       "html": [
        "<div style=\"max-height:1000px;max-width:1500px;overflow:auto;\">\n",
        "<table border=\"1\" class=\"dataframe\">\n",
        "  <thead>\n",
        "    <tr style=\"text-align: right;\">\n",
        "      <th></th>\n",
        "      <th>A</th>\n",
        "      <th>C</th>\n",
        "    </tr>\n",
        "  </thead>\n",
        "  <tbody>\n",
        "    <tr>\n",
        "      <th>2013-01-02</th>\n",
        "      <td> 1.699907</td>\n",
        "      <td> 1.169652</td>\n",
        "    </tr>\n",
        "    <tr>\n",
        "      <th>2013-01-03</th>\n",
        "      <td>-1.211398</td>\n",
        "      <td>-0.802234</td>\n",
        "    </tr>\n",
        "    <tr>\n",
        "      <th>2013-01-05</th>\n",
        "      <td> 1.137782</td>\n",
        "      <td> 0.532045</td>\n",
        "    </tr>\n",
        "  </tbody>\n",
        "</table>\n",
        "</div>"
       ],
       "metadata": {},
       "output_type": "pyout",
       "prompt_number": 31,
       "text": [
        "                   A         C\n",
        "2013-01-02  1.699907  1.169652\n",
        "2013-01-03 -1.211398 -0.802234\n",
        "2013-01-05  1.137782  0.532045"
       ]
      }
     ],
     "prompt_number": 31
    },
    {
     "cell_type": "markdown",
     "metadata": {},
     "source": [
      "For slicing rows explicitly"
     ]
    },
    {
     "cell_type": "code",
     "collapsed": false,
     "input": [
      "df.iloc[1:3,:]"
     ],
     "language": "python",
     "metadata": {},
     "outputs": [
      {
       "html": [
        "<div style=\"max-height:1000px;max-width:1500px;overflow:auto;\">\n",
        "<table border=\"1\" class=\"dataframe\">\n",
        "  <thead>\n",
        "    <tr style=\"text-align: right;\">\n",
        "      <th></th>\n",
        "      <th>A</th>\n",
        "      <th>B</th>\n",
        "      <th>C</th>\n",
        "      <th>D</th>\n",
        "    </tr>\n",
        "  </thead>\n",
        "  <tbody>\n",
        "    <tr>\n",
        "      <th>2013-01-02</th>\n",
        "      <td> 1.699907</td>\n",
        "      <td>-1.016551</td>\n",
        "      <td> 1.169652</td>\n",
        "      <td>-0.196324</td>\n",
        "    </tr>\n",
        "    <tr>\n",
        "      <th>2013-01-03</th>\n",
        "      <td>-1.211398</td>\n",
        "      <td>-1.149496</td>\n",
        "      <td>-0.802234</td>\n",
        "      <td>-1.012624</td>\n",
        "    </tr>\n",
        "  </tbody>\n",
        "</table>\n",
        "</div>"
       ],
       "metadata": {},
       "output_type": "pyout",
       "prompt_number": 32,
       "text": [
        "                   A         B         C         D\n",
        "2013-01-02  1.699907 -1.016551  1.169652 -0.196324\n",
        "2013-01-03 -1.211398 -1.149496 -0.802234 -1.012624"
       ]
      }
     ],
     "prompt_number": 32
    },
    {
     "cell_type": "markdown",
     "metadata": {},
     "source": [
      "For slicing column explicitly"
     ]
    },
    {
     "cell_type": "code",
     "collapsed": false,
     "input": [
      "df.iloc[:,1:3]"
     ],
     "language": "python",
     "metadata": {},
     "outputs": [
      {
       "html": [
        "<div style=\"max-height:1000px;max-width:1500px;overflow:auto;\">\n",
        "<table border=\"1\" class=\"dataframe\">\n",
        "  <thead>\n",
        "    <tr style=\"text-align: right;\">\n",
        "      <th></th>\n",
        "      <th>B</th>\n",
        "      <th>C</th>\n",
        "    </tr>\n",
        "  </thead>\n",
        "  <tbody>\n",
        "    <tr>\n",
        "      <th>2013-01-01</th>\n",
        "      <td> 1.857702</td>\n",
        "      <td> 1.183654</td>\n",
        "    </tr>\n",
        "    <tr>\n",
        "      <th>2013-01-02</th>\n",
        "      <td>-1.016551</td>\n",
        "      <td> 1.169652</td>\n",
        "    </tr>\n",
        "    <tr>\n",
        "      <th>2013-01-03</th>\n",
        "      <td>-1.149496</td>\n",
        "      <td>-0.802234</td>\n",
        "    </tr>\n",
        "    <tr>\n",
        "      <th>2013-01-04</th>\n",
        "      <td> 1.107276</td>\n",
        "      <td> 1.261900</td>\n",
        "    </tr>\n",
        "    <tr>\n",
        "      <th>2013-01-05</th>\n",
        "      <td> 0.188424</td>\n",
        "      <td> 0.532045</td>\n",
        "    </tr>\n",
        "    <tr>\n",
        "      <th>2013-01-06</th>\n",
        "      <td>-0.262830</td>\n",
        "      <td>-0.706510</td>\n",
        "    </tr>\n",
        "  </tbody>\n",
        "</table>\n",
        "</div>"
       ],
       "metadata": {},
       "output_type": "pyout",
       "prompt_number": 33,
       "text": [
        "                   B         C\n",
        "2013-01-01  1.857702  1.183654\n",
        "2013-01-02 -1.016551  1.169652\n",
        "2013-01-03 -1.149496 -0.802234\n",
        "2013-01-04  1.107276  1.261900\n",
        "2013-01-05  0.188424  0.532045\n",
        "2013-01-06 -0.262830 -0.706510"
       ]
      }
     ],
     "prompt_number": 33
    },
    {
     "cell_type": "markdown",
     "metadata": {},
     "source": [
      "For getting a value explicity"
     ]
    },
    {
     "cell_type": "code",
     "collapsed": false,
     "input": [
      "df.iloc[1,1]"
     ],
     "language": "python",
     "metadata": {},
     "outputs": [
      {
       "metadata": {},
       "output_type": "pyout",
       "prompt_number": 34,
       "text": [
        "-1.0165512274628399"
       ]
      }
     ],
     "prompt_number": 34
    },
    {
     "cell_type": "markdown",
     "metadata": {},
     "source": [
      "For getting fast access to a scalar (equiv to the prior method)"
     ]
    },
    {
     "cell_type": "code",
     "collapsed": false,
     "input": [
      "df.iat[1,1]"
     ],
     "language": "python",
     "metadata": {},
     "outputs": [
      {
       "metadata": {},
       "output_type": "pyout",
       "prompt_number": 35,
       "text": [
        "-1.0165512274628399"
       ]
      }
     ],
     "prompt_number": 35
    },
    {
     "cell_type": "markdown",
     "metadata": {},
     "source": [
      "There is one signficant departure from standard python/numpy slicing semantics.\n",
      "python/numpy allow slicing past the end of an array without an associated\n",
      "error."
     ]
    },
    {
     "cell_type": "code",
     "collapsed": false,
     "input": [
      " # these are allowed in python/numpy.\n",
      " x = list('abcdef')\n",
      " x[4:10]"
     ],
     "language": "python",
     "metadata": {},
     "outputs": [
      {
       "metadata": {},
       "output_type": "pyout",
       "prompt_number": 36,
       "text": [
        "['e', 'f']"
       ]
      }
     ],
     "prompt_number": 36
    },
    {
     "cell_type": "code",
     "collapsed": false,
     "input": [
      " x[8:10]"
     ],
     "language": "python",
     "metadata": {},
     "outputs": [
      {
       "metadata": {},
       "output_type": "pyout",
       "prompt_number": 37,
       "text": [
        "[]"
       ]
      }
     ],
     "prompt_number": 37
    },
    {
     "cell_type": "markdown",
     "metadata": {},
     "source": [
      "Pandas will detect this and raise ``IndexError``, rather than return an empty\n",
      "structure."
     ]
    },
    {
     "cell_type": "raw",
     "metadata": {},
     "source": [
      " >>> df.iloc[:,8:10]\n",
      " IndexError: out-of-bounds on slice (end)"
     ]
    },
    {
     "cell_type": "heading",
     "level": 3,
     "metadata": {},
     "source": [
      "Boolean Indexing"
     ]
    },
    {
     "cell_type": "markdown",
     "metadata": {},
     "source": [
      "Using a single column's values to select data."
     ]
    },
    {
     "cell_type": "code",
     "collapsed": false,
     "input": [
      "df[df.A > 0]"
     ],
     "language": "python",
     "metadata": {},
     "outputs": [
      {
       "html": [
        "<div style=\"max-height:1000px;max-width:1500px;overflow:auto;\">\n",
        "<table border=\"1\" class=\"dataframe\">\n",
        "  <thead>\n",
        "    <tr style=\"text-align: right;\">\n",
        "      <th></th>\n",
        "      <th>A</th>\n",
        "      <th>B</th>\n",
        "      <th>C</th>\n",
        "      <th>D</th>\n",
        "    </tr>\n",
        "  </thead>\n",
        "  <tbody>\n",
        "    <tr>\n",
        "      <th>2013-01-01</th>\n",
        "      <td> 0.278000</td>\n",
        "      <td> 1.857702</td>\n",
        "      <td> 1.183654</td>\n",
        "      <td>-0.268334</td>\n",
        "    </tr>\n",
        "    <tr>\n",
        "      <th>2013-01-02</th>\n",
        "      <td> 1.699907</td>\n",
        "      <td>-1.016551</td>\n",
        "      <td> 1.169652</td>\n",
        "      <td>-0.196324</td>\n",
        "    </tr>\n",
        "    <tr>\n",
        "      <th>2013-01-04</th>\n",
        "      <td> 0.812302</td>\n",
        "      <td> 1.107276</td>\n",
        "      <td> 1.261900</td>\n",
        "      <td> 0.341376</td>\n",
        "    </tr>\n",
        "    <tr>\n",
        "      <th>2013-01-05</th>\n",
        "      <td> 1.137782</td>\n",
        "      <td> 0.188424</td>\n",
        "      <td> 0.532045</td>\n",
        "      <td> 1.048452</td>\n",
        "    </tr>\n",
        "    <tr>\n",
        "      <th>2013-01-06</th>\n",
        "      <td> 1.224148</td>\n",
        "      <td>-0.262830</td>\n",
        "      <td>-0.706510</td>\n",
        "      <td>-0.617520</td>\n",
        "    </tr>\n",
        "  </tbody>\n",
        "</table>\n",
        "</div>"
       ],
       "metadata": {},
       "output_type": "pyout",
       "prompt_number": 38,
       "text": [
        "                   A         B         C         D\n",
        "2013-01-01  0.278000  1.857702  1.183654 -0.268334\n",
        "2013-01-02  1.699907 -1.016551  1.169652 -0.196324\n",
        "2013-01-04  0.812302  1.107276  1.261900  0.341376\n",
        "2013-01-05  1.137782  0.188424  0.532045  1.048452\n",
        "2013-01-06  1.224148 -0.262830 -0.706510 -0.617520"
       ]
      }
     ],
     "prompt_number": 38
    },
    {
     "cell_type": "markdown",
     "metadata": {},
     "source": [
      "A ``where`` operation for getting."
     ]
    },
    {
     "cell_type": "code",
     "collapsed": false,
     "input": [
      "df[df > 0]"
     ],
     "language": "python",
     "metadata": {},
     "outputs": [
      {
       "html": [
        "<div style=\"max-height:1000px;max-width:1500px;overflow:auto;\">\n",
        "<table border=\"1\" class=\"dataframe\">\n",
        "  <thead>\n",
        "    <tr style=\"text-align: right;\">\n",
        "      <th></th>\n",
        "      <th>A</th>\n",
        "      <th>B</th>\n",
        "      <th>C</th>\n",
        "      <th>D</th>\n",
        "    </tr>\n",
        "  </thead>\n",
        "  <tbody>\n",
        "    <tr>\n",
        "      <th>2013-01-01</th>\n",
        "      <td> 0.278000</td>\n",
        "      <td> 1.857702</td>\n",
        "      <td> 1.183654</td>\n",
        "      <td>      NaN</td>\n",
        "    </tr>\n",
        "    <tr>\n",
        "      <th>2013-01-02</th>\n",
        "      <td> 1.699907</td>\n",
        "      <td>      NaN</td>\n",
        "      <td> 1.169652</td>\n",
        "      <td>      NaN</td>\n",
        "    </tr>\n",
        "    <tr>\n",
        "      <th>2013-01-03</th>\n",
        "      <td>      NaN</td>\n",
        "      <td>      NaN</td>\n",
        "      <td>      NaN</td>\n",
        "      <td>      NaN</td>\n",
        "    </tr>\n",
        "    <tr>\n",
        "      <th>2013-01-04</th>\n",
        "      <td> 0.812302</td>\n",
        "      <td> 1.107276</td>\n",
        "      <td> 1.261900</td>\n",
        "      <td> 0.341376</td>\n",
        "    </tr>\n",
        "    <tr>\n",
        "      <th>2013-01-05</th>\n",
        "      <td> 1.137782</td>\n",
        "      <td> 0.188424</td>\n",
        "      <td> 0.532045</td>\n",
        "      <td> 1.048452</td>\n",
        "    </tr>\n",
        "    <tr>\n",
        "      <th>2013-01-06</th>\n",
        "      <td> 1.224148</td>\n",
        "      <td>      NaN</td>\n",
        "      <td>      NaN</td>\n",
        "      <td>      NaN</td>\n",
        "    </tr>\n",
        "  </tbody>\n",
        "</table>\n",
        "</div>"
       ],
       "metadata": {},
       "output_type": "pyout",
       "prompt_number": 39,
       "text": [
        "                   A         B         C         D\n",
        "2013-01-01  0.278000  1.857702  1.183654       NaN\n",
        "2013-01-02  1.699907       NaN  1.169652       NaN\n",
        "2013-01-03       NaN       NaN       NaN       NaN\n",
        "2013-01-04  0.812302  1.107276  1.261900  0.341376\n",
        "2013-01-05  1.137782  0.188424  0.532045  1.048452\n",
        "2013-01-06  1.224148       NaN       NaN       NaN"
       ]
      }
     ],
     "prompt_number": 39
    },
    {
     "cell_type": "heading",
     "level": 3,
     "metadata": {},
     "source": [
      "Setting"
     ]
    },
    {
     "cell_type": "markdown",
     "metadata": {},
     "source": [
      "Setting a new column automatically aligns the data\n",
      "by the indexes"
     ]
    },
    {
     "cell_type": "code",
     "collapsed": false,
     "input": [
      "s1 = pd.Series([1,2,3,4,5,6],index=pd.date_range('20130102',periods=6))\n",
      "s1"
     ],
     "language": "python",
     "metadata": {},
     "outputs": [
      {
       "metadata": {},
       "output_type": "pyout",
       "prompt_number": 40,
       "text": [
        "2013-01-02    1\n",
        "2013-01-03    2\n",
        "2013-01-04    3\n",
        "2013-01-05    4\n",
        "2013-01-06    5\n",
        "2013-01-07    6\n",
        "Freq: D, dtype: int64"
       ]
      }
     ],
     "prompt_number": 40
    },
    {
     "cell_type": "code",
     "collapsed": false,
     "input": [
      "df['F'] = s1"
     ],
     "language": "python",
     "metadata": {},
     "outputs": [],
     "prompt_number": 41
    },
    {
     "cell_type": "markdown",
     "metadata": {},
     "source": [
      "Setting values by label"
     ]
    },
    {
     "cell_type": "code",
     "collapsed": false,
     "input": [
      "df.at[dates[0],'A'] = 0"
     ],
     "language": "python",
     "metadata": {},
     "outputs": [],
     "prompt_number": 42
    },
    {
     "cell_type": "markdown",
     "metadata": {},
     "source": [
      "Setting values by position"
     ]
    },
    {
     "cell_type": "code",
     "collapsed": false,
     "input": [
      "df.iat[0,1] = 0"
     ],
     "language": "python",
     "metadata": {},
     "outputs": [],
     "prompt_number": 43
    },
    {
     "cell_type": "markdown",
     "metadata": {},
     "source": [
      "Setting by assigning with a numpy array"
     ]
    },
    {
     "cell_type": "code",
     "collapsed": false,
     "input": [
      "df.loc[:,'D'] = np.array([5] * len(df))"
     ],
     "language": "python",
     "metadata": {},
     "outputs": [],
     "prompt_number": 44
    },
    {
     "cell_type": "markdown",
     "metadata": {},
     "source": [
      "The result of the prior setting operations"
     ]
    },
    {
     "cell_type": "code",
     "collapsed": false,
     "input": [
      "df"
     ],
     "language": "python",
     "metadata": {},
     "outputs": [
      {
       "html": [
        "<div style=\"max-height:1000px;max-width:1500px;overflow:auto;\">\n",
        "<table border=\"1\" class=\"dataframe\">\n",
        "  <thead>\n",
        "    <tr style=\"text-align: right;\">\n",
        "      <th></th>\n",
        "      <th>A</th>\n",
        "      <th>B</th>\n",
        "      <th>C</th>\n",
        "      <th>D</th>\n",
        "      <th>F</th>\n",
        "    </tr>\n",
        "  </thead>\n",
        "  <tbody>\n",
        "    <tr>\n",
        "      <th>2013-01-01</th>\n",
        "      <td> 0.000000</td>\n",
        "      <td> 0.000000</td>\n",
        "      <td> 1.183654</td>\n",
        "      <td> 5</td>\n",
        "      <td>NaN</td>\n",
        "    </tr>\n",
        "    <tr>\n",
        "      <th>2013-01-02</th>\n",
        "      <td> 1.699907</td>\n",
        "      <td>-1.016551</td>\n",
        "      <td> 1.169652</td>\n",
        "      <td> 5</td>\n",
        "      <td>  1</td>\n",
        "    </tr>\n",
        "    <tr>\n",
        "      <th>2013-01-03</th>\n",
        "      <td>-1.211398</td>\n",
        "      <td>-1.149496</td>\n",
        "      <td>-0.802234</td>\n",
        "      <td> 5</td>\n",
        "      <td>  2</td>\n",
        "    </tr>\n",
        "    <tr>\n",
        "      <th>2013-01-04</th>\n",
        "      <td> 0.812302</td>\n",
        "      <td> 1.107276</td>\n",
        "      <td> 1.261900</td>\n",
        "      <td> 5</td>\n",
        "      <td>  3</td>\n",
        "    </tr>\n",
        "    <tr>\n",
        "      <th>2013-01-05</th>\n",
        "      <td> 1.137782</td>\n",
        "      <td> 0.188424</td>\n",
        "      <td> 0.532045</td>\n",
        "      <td> 5</td>\n",
        "      <td>  4</td>\n",
        "    </tr>\n",
        "    <tr>\n",
        "      <th>2013-01-06</th>\n",
        "      <td> 1.224148</td>\n",
        "      <td>-0.262830</td>\n",
        "      <td>-0.706510</td>\n",
        "      <td> 5</td>\n",
        "      <td>  5</td>\n",
        "    </tr>\n",
        "  </tbody>\n",
        "</table>\n",
        "</div>"
       ],
       "metadata": {},
       "output_type": "pyout",
       "prompt_number": 45,
       "text": [
        "                   A         B         C  D   F\n",
        "2013-01-01  0.000000  0.000000  1.183654  5 NaN\n",
        "2013-01-02  1.699907 -1.016551  1.169652  5   1\n",
        "2013-01-03 -1.211398 -1.149496 -0.802234  5   2\n",
        "2013-01-04  0.812302  1.107276  1.261900  5   3\n",
        "2013-01-05  1.137782  0.188424  0.532045  5   4\n",
        "2013-01-06  1.224148 -0.262830 -0.706510  5   5"
       ]
      }
     ],
     "prompt_number": 45
    },
    {
     "cell_type": "markdown",
     "metadata": {},
     "source": [
      "A ``where`` operation with setting."
     ]
    },
    {
     "cell_type": "code",
     "collapsed": false,
     "input": [
      "df2 = df.copy()\n",
      "df2[df2 > 0] = -df2\n",
      "df2"
     ],
     "language": "python",
     "metadata": {},
     "outputs": [
      {
       "html": [
        "<div style=\"max-height:1000px;max-width:1500px;overflow:auto;\">\n",
        "<table border=\"1\" class=\"dataframe\">\n",
        "  <thead>\n",
        "    <tr style=\"text-align: right;\">\n",
        "      <th></th>\n",
        "      <th>A</th>\n",
        "      <th>B</th>\n",
        "      <th>C</th>\n",
        "      <th>D</th>\n",
        "      <th>F</th>\n",
        "    </tr>\n",
        "  </thead>\n",
        "  <tbody>\n",
        "    <tr>\n",
        "      <th>2013-01-01</th>\n",
        "      <td> 0.000000</td>\n",
        "      <td> 0.000000</td>\n",
        "      <td>-1.183654</td>\n",
        "      <td>-5</td>\n",
        "      <td>NaN</td>\n",
        "    </tr>\n",
        "    <tr>\n",
        "      <th>2013-01-02</th>\n",
        "      <td>-1.699907</td>\n",
        "      <td>-1.016551</td>\n",
        "      <td>-1.169652</td>\n",
        "      <td>-5</td>\n",
        "      <td> -1</td>\n",
        "    </tr>\n",
        "    <tr>\n",
        "      <th>2013-01-03</th>\n",
        "      <td>-1.211398</td>\n",
        "      <td>-1.149496</td>\n",
        "      <td>-0.802234</td>\n",
        "      <td>-5</td>\n",
        "      <td> -2</td>\n",
        "    </tr>\n",
        "    <tr>\n",
        "      <th>2013-01-04</th>\n",
        "      <td>-0.812302</td>\n",
        "      <td>-1.107276</td>\n",
        "      <td>-1.261900</td>\n",
        "      <td>-5</td>\n",
        "      <td> -3</td>\n",
        "    </tr>\n",
        "    <tr>\n",
        "      <th>2013-01-05</th>\n",
        "      <td>-1.137782</td>\n",
        "      <td>-0.188424</td>\n",
        "      <td>-0.532045</td>\n",
        "      <td>-5</td>\n",
        "      <td> -4</td>\n",
        "    </tr>\n",
        "    <tr>\n",
        "      <th>2013-01-06</th>\n",
        "      <td>-1.224148</td>\n",
        "      <td>-0.262830</td>\n",
        "      <td>-0.706510</td>\n",
        "      <td>-5</td>\n",
        "      <td> -5</td>\n",
        "    </tr>\n",
        "  </tbody>\n",
        "</table>\n",
        "</div>"
       ],
       "metadata": {},
       "output_type": "pyout",
       "prompt_number": 46,
       "text": [
        "                   A         B         C  D   F\n",
        "2013-01-01  0.000000  0.000000 -1.183654 -5 NaN\n",
        "2013-01-02 -1.699907 -1.016551 -1.169652 -5  -1\n",
        "2013-01-03 -1.211398 -1.149496 -0.802234 -5  -2\n",
        "2013-01-04 -0.812302 -1.107276 -1.261900 -5  -3\n",
        "2013-01-05 -1.137782 -0.188424 -0.532045 -5  -4\n",
        "2013-01-06 -1.224148 -0.262830 -0.706510 -5  -5"
       ]
      }
     ],
     "prompt_number": 46
    },
    {
     "cell_type": "heading",
     "level": 2,
     "metadata": {},
     "source": [
      "Missing Data"
     ]
    },
    {
     "cell_type": "markdown",
     "metadata": {},
     "source": [
      "Pandas primarily uses the value ``np.nan`` to represent missing data. It is by\n",
      "default not included in computations. See the :ref:`Missing Data section\n",
      "<missing_data>`\n",
      "\n",
      "Reindexing allows you to change/add/delete the index on a specified axis. This\n",
      "returns a copy of the data."
     ]
    },
    {
     "cell_type": "code",
     "collapsed": false,
     "input": [
      "df1 = df.reindex(index=dates[0:4],columns=list(df.columns) + ['E'])\n",
      "df1.loc[dates[0]:dates[1],'E'] = 1\n",
      "df1"
     ],
     "language": "python",
     "metadata": {},
     "outputs": [
      {
       "html": [
        "<div style=\"max-height:1000px;max-width:1500px;overflow:auto;\">\n",
        "<table border=\"1\" class=\"dataframe\">\n",
        "  <thead>\n",
        "    <tr style=\"text-align: right;\">\n",
        "      <th></th>\n",
        "      <th>A</th>\n",
        "      <th>B</th>\n",
        "      <th>C</th>\n",
        "      <th>D</th>\n",
        "      <th>F</th>\n",
        "      <th>E</th>\n",
        "    </tr>\n",
        "  </thead>\n",
        "  <tbody>\n",
        "    <tr>\n",
        "      <th>2013-01-01</th>\n",
        "      <td> 0.000000</td>\n",
        "      <td> 0.000000</td>\n",
        "      <td> 1.183654</td>\n",
        "      <td> 5</td>\n",
        "      <td>NaN</td>\n",
        "      <td>  1</td>\n",
        "    </tr>\n",
        "    <tr>\n",
        "      <th>2013-01-02</th>\n",
        "      <td> 1.699907</td>\n",
        "      <td>-1.016551</td>\n",
        "      <td> 1.169652</td>\n",
        "      <td> 5</td>\n",
        "      <td>  1</td>\n",
        "      <td>  1</td>\n",
        "    </tr>\n",
        "    <tr>\n",
        "      <th>2013-01-03</th>\n",
        "      <td>-1.211398</td>\n",
        "      <td>-1.149496</td>\n",
        "      <td>-0.802234</td>\n",
        "      <td> 5</td>\n",
        "      <td>  2</td>\n",
        "      <td>NaN</td>\n",
        "    </tr>\n",
        "    <tr>\n",
        "      <th>2013-01-04</th>\n",
        "      <td> 0.812302</td>\n",
        "      <td> 1.107276</td>\n",
        "      <td> 1.261900</td>\n",
        "      <td> 5</td>\n",
        "      <td>  3</td>\n",
        "      <td>NaN</td>\n",
        "    </tr>\n",
        "  </tbody>\n",
        "</table>\n",
        "</div>"
       ],
       "metadata": {},
       "output_type": "pyout",
       "prompt_number": 47,
       "text": [
        "                   A         B         C  D   F   E\n",
        "2013-01-01  0.000000  0.000000  1.183654  5 NaN   1\n",
        "2013-01-02  1.699907 -1.016551  1.169652  5   1   1\n",
        "2013-01-03 -1.211398 -1.149496 -0.802234  5   2 NaN\n",
        "2013-01-04  0.812302  1.107276  1.261900  5   3 NaN"
       ]
      }
     ],
     "prompt_number": 47
    },
    {
     "cell_type": "markdown",
     "metadata": {},
     "source": [
      "To drop any rows that have missing data."
     ]
    },
    {
     "cell_type": "code",
     "collapsed": false,
     "input": [
      "df1.dropna(how='any')"
     ],
     "language": "python",
     "metadata": {},
     "outputs": [
      {
       "html": [
        "<div style=\"max-height:1000px;max-width:1500px;overflow:auto;\">\n",
        "<table border=\"1\" class=\"dataframe\">\n",
        "  <thead>\n",
        "    <tr style=\"text-align: right;\">\n",
        "      <th></th>\n",
        "      <th>A</th>\n",
        "      <th>B</th>\n",
        "      <th>C</th>\n",
        "      <th>D</th>\n",
        "      <th>F</th>\n",
        "      <th>E</th>\n",
        "    </tr>\n",
        "  </thead>\n",
        "  <tbody>\n",
        "    <tr>\n",
        "      <th>2013-01-02</th>\n",
        "      <td> 1.699907</td>\n",
        "      <td>-1.016551</td>\n",
        "      <td> 1.169652</td>\n",
        "      <td> 5</td>\n",
        "      <td> 1</td>\n",
        "      <td> 1</td>\n",
        "    </tr>\n",
        "  </tbody>\n",
        "</table>\n",
        "</div>"
       ],
       "metadata": {},
       "output_type": "pyout",
       "prompt_number": 48,
       "text": [
        "                   A         B         C  D  F  E\n",
        "2013-01-02  1.699907 -1.016551  1.169652  5  1  1"
       ]
      }
     ],
     "prompt_number": 48
    },
    {
     "cell_type": "markdown",
     "metadata": {},
     "source": [
      "Filling missing data"
     ]
    },
    {
     "cell_type": "code",
     "collapsed": false,
     "input": [
      "df1.fillna(value=5)"
     ],
     "language": "python",
     "metadata": {},
     "outputs": [
      {
       "html": [
        "<div style=\"max-height:1000px;max-width:1500px;overflow:auto;\">\n",
        "<table border=\"1\" class=\"dataframe\">\n",
        "  <thead>\n",
        "    <tr style=\"text-align: right;\">\n",
        "      <th></th>\n",
        "      <th>A</th>\n",
        "      <th>B</th>\n",
        "      <th>C</th>\n",
        "      <th>D</th>\n",
        "      <th>F</th>\n",
        "      <th>E</th>\n",
        "    </tr>\n",
        "  </thead>\n",
        "  <tbody>\n",
        "    <tr>\n",
        "      <th>2013-01-01</th>\n",
        "      <td> 0.000000</td>\n",
        "      <td> 0.000000</td>\n",
        "      <td> 1.183654</td>\n",
        "      <td> 5</td>\n",
        "      <td> 5</td>\n",
        "      <td> 1</td>\n",
        "    </tr>\n",
        "    <tr>\n",
        "      <th>2013-01-02</th>\n",
        "      <td> 1.699907</td>\n",
        "      <td>-1.016551</td>\n",
        "      <td> 1.169652</td>\n",
        "      <td> 5</td>\n",
        "      <td> 1</td>\n",
        "      <td> 1</td>\n",
        "    </tr>\n",
        "    <tr>\n",
        "      <th>2013-01-03</th>\n",
        "      <td>-1.211398</td>\n",
        "      <td>-1.149496</td>\n",
        "      <td>-0.802234</td>\n",
        "      <td> 5</td>\n",
        "      <td> 2</td>\n",
        "      <td> 5</td>\n",
        "    </tr>\n",
        "    <tr>\n",
        "      <th>2013-01-04</th>\n",
        "      <td> 0.812302</td>\n",
        "      <td> 1.107276</td>\n",
        "      <td> 1.261900</td>\n",
        "      <td> 5</td>\n",
        "      <td> 3</td>\n",
        "      <td> 5</td>\n",
        "    </tr>\n",
        "  </tbody>\n",
        "</table>\n",
        "</div>"
       ],
       "metadata": {},
       "output_type": "pyout",
       "prompt_number": 49,
       "text": [
        "                   A         B         C  D  F  E\n",
        "2013-01-01  0.000000  0.000000  1.183654  5  5  1\n",
        "2013-01-02  1.699907 -1.016551  1.169652  5  1  1\n",
        "2013-01-03 -1.211398 -1.149496 -0.802234  5  2  5\n",
        "2013-01-04  0.812302  1.107276  1.261900  5  3  5"
       ]
      }
     ],
     "prompt_number": 49
    },
    {
     "cell_type": "markdown",
     "metadata": {},
     "source": [
      "To get the boolean mask where values are ``nan``"
     ]
    },
    {
     "cell_type": "code",
     "collapsed": false,
     "input": [
      "pd.isnull(df1)"
     ],
     "language": "python",
     "metadata": {},
     "outputs": [
      {
       "html": [
        "<div style=\"max-height:1000px;max-width:1500px;overflow:auto;\">\n",
        "<table border=\"1\" class=\"dataframe\">\n",
        "  <thead>\n",
        "    <tr style=\"text-align: right;\">\n",
        "      <th></th>\n",
        "      <th>A</th>\n",
        "      <th>B</th>\n",
        "      <th>C</th>\n",
        "      <th>D</th>\n",
        "      <th>F</th>\n",
        "      <th>E</th>\n",
        "    </tr>\n",
        "  </thead>\n",
        "  <tbody>\n",
        "    <tr>\n",
        "      <th>2013-01-01</th>\n",
        "      <td> False</td>\n",
        "      <td> False</td>\n",
        "      <td> False</td>\n",
        "      <td> False</td>\n",
        "      <td>  True</td>\n",
        "      <td> False</td>\n",
        "    </tr>\n",
        "    <tr>\n",
        "      <th>2013-01-02</th>\n",
        "      <td> False</td>\n",
        "      <td> False</td>\n",
        "      <td> False</td>\n",
        "      <td> False</td>\n",
        "      <td> False</td>\n",
        "      <td> False</td>\n",
        "    </tr>\n",
        "    <tr>\n",
        "      <th>2013-01-03</th>\n",
        "      <td> False</td>\n",
        "      <td> False</td>\n",
        "      <td> False</td>\n",
        "      <td> False</td>\n",
        "      <td> False</td>\n",
        "      <td>  True</td>\n",
        "    </tr>\n",
        "    <tr>\n",
        "      <th>2013-01-04</th>\n",
        "      <td> False</td>\n",
        "      <td> False</td>\n",
        "      <td> False</td>\n",
        "      <td> False</td>\n",
        "      <td> False</td>\n",
        "      <td>  True</td>\n",
        "    </tr>\n",
        "  </tbody>\n",
        "</table>\n",
        "</div>"
       ],
       "metadata": {},
       "output_type": "pyout",
       "prompt_number": 50,
       "text": [
        "                A      B      C      D      F      E\n",
        "2013-01-01  False  False  False  False   True  False\n",
        "2013-01-02  False  False  False  False  False  False\n",
        "2013-01-03  False  False  False  False  False   True\n",
        "2013-01-04  False  False  False  False  False   True"
       ]
      }
     ],
     "prompt_number": 50
    },
    {
     "cell_type": "heading",
     "level": 2,
     "metadata": {},
     "source": [
      "Operations"
     ]
    },
    {
     "cell_type": "markdown",
     "metadata": {},
     "source": [
      "See the :ref:`Basic section on Binary Ops <basics.binop>`"
     ]
    },
    {
     "cell_type": "heading",
     "level": 3,
     "metadata": {},
     "source": [
      "Stats"
     ]
    },
    {
     "cell_type": "markdown",
     "metadata": {},
     "source": [
      "Operations in general *exclude* missing data.\n",
      "\n",
      "Performing a descriptive statistic"
     ]
    },
    {
     "cell_type": "code",
     "collapsed": false,
     "input": [
      "df.mean()"
     ],
     "language": "python",
     "metadata": {},
     "outputs": [
      {
       "metadata": {},
       "output_type": "pyout",
       "prompt_number": 51,
       "text": [
        "A    0.610457\n",
        "B   -0.188863\n",
        "C    0.439751\n",
        "D    5.000000\n",
        "F    3.000000\n",
        "dtype: float64"
       ]
      }
     ],
     "prompt_number": 51
    },
    {
     "cell_type": "markdown",
     "metadata": {},
     "source": [
      "Same operation on the other axis"
     ]
    },
    {
     "cell_type": "code",
     "collapsed": false,
     "input": [
      "df.mean(1)"
     ],
     "language": "python",
     "metadata": {},
     "outputs": [
      {
       "metadata": {},
       "output_type": "pyout",
       "prompt_number": 52,
       "text": [
        "2013-01-01    1.545914\n",
        "2013-01-02    1.570602\n",
        "2013-01-03    0.767374\n",
        "2013-01-04    2.236296\n",
        "2013-01-05    2.171650\n",
        "2013-01-06    2.050962\n",
        "Freq: D, dtype: float64"
       ]
      }
     ],
     "prompt_number": 52
    },
    {
     "cell_type": "markdown",
     "metadata": {},
     "source": [
      "Operating with objects that have different dimensionality and need alignment.\n",
      "In addition, pandas automatically broadcasts along the specified dimension."
     ]
    },
    {
     "cell_type": "code",
     "collapsed": false,
     "input": [
      "s = pd.Series([1,3,5,np.nan,6,8],index=dates).shift(2)\n",
      "s"
     ],
     "language": "python",
     "metadata": {},
     "outputs": [
      {
       "metadata": {},
       "output_type": "pyout",
       "prompt_number": 54,
       "text": [
        "2013-01-01   NaN\n",
        "2013-01-02   NaN\n",
        "2013-01-03     1\n",
        "2013-01-04     3\n",
        "2013-01-05     5\n",
        "2013-01-06   NaN\n",
        "Freq: D, dtype: float64"
       ]
      }
     ],
     "prompt_number": 54
    },
    {
     "cell_type": "code",
     "collapsed": false,
     "input": [
      "df.sub(s,axis='index')"
     ],
     "language": "python",
     "metadata": {},
     "outputs": [
      {
       "html": [
        "<div style=\"max-height:1000px;max-width:1500px;overflow:auto;\">\n",
        "<table border=\"1\" class=\"dataframe\">\n",
        "  <thead>\n",
        "    <tr style=\"text-align: right;\">\n",
        "      <th></th>\n",
        "      <th>A</th>\n",
        "      <th>B</th>\n",
        "      <th>C</th>\n",
        "      <th>D</th>\n",
        "      <th>F</th>\n",
        "    </tr>\n",
        "  </thead>\n",
        "  <tbody>\n",
        "    <tr>\n",
        "      <th>2013-01-01</th>\n",
        "      <td>      NaN</td>\n",
        "      <td>      NaN</td>\n",
        "      <td>      NaN</td>\n",
        "      <td>NaN</td>\n",
        "      <td>NaN</td>\n",
        "    </tr>\n",
        "    <tr>\n",
        "      <th>2013-01-02</th>\n",
        "      <td>      NaN</td>\n",
        "      <td>      NaN</td>\n",
        "      <td>      NaN</td>\n",
        "      <td>NaN</td>\n",
        "      <td>NaN</td>\n",
        "    </tr>\n",
        "    <tr>\n",
        "      <th>2013-01-03</th>\n",
        "      <td>-2.211398</td>\n",
        "      <td>-2.149496</td>\n",
        "      <td>-1.802234</td>\n",
        "      <td>  4</td>\n",
        "      <td>  1</td>\n",
        "    </tr>\n",
        "    <tr>\n",
        "      <th>2013-01-04</th>\n",
        "      <td>-2.187698</td>\n",
        "      <td>-1.892724</td>\n",
        "      <td>-1.738100</td>\n",
        "      <td>  2</td>\n",
        "      <td>  0</td>\n",
        "    </tr>\n",
        "    <tr>\n",
        "      <th>2013-01-05</th>\n",
        "      <td>-3.862218</td>\n",
        "      <td>-4.811576</td>\n",
        "      <td>-4.467955</td>\n",
        "      <td>  0</td>\n",
        "      <td> -1</td>\n",
        "    </tr>\n",
        "    <tr>\n",
        "      <th>2013-01-06</th>\n",
        "      <td>      NaN</td>\n",
        "      <td>      NaN</td>\n",
        "      <td>      NaN</td>\n",
        "      <td>NaN</td>\n",
        "      <td>NaN</td>\n",
        "    </tr>\n",
        "  </tbody>\n",
        "</table>\n",
        "</div>"
       ],
       "metadata": {},
       "output_type": "pyout",
       "prompt_number": 55,
       "text": [
        "                   A         B         C   D   F\n",
        "2013-01-01       NaN       NaN       NaN NaN NaN\n",
        "2013-01-02       NaN       NaN       NaN NaN NaN\n",
        "2013-01-03 -2.211398 -2.149496 -1.802234   4   1\n",
        "2013-01-04 -2.187698 -1.892724 -1.738100   2   0\n",
        "2013-01-05 -3.862218 -4.811576 -4.467955   0  -1\n",
        "2013-01-06       NaN       NaN       NaN NaN NaN"
       ]
      }
     ],
     "prompt_number": 55
    },
    {
     "cell_type": "heading",
     "level": 3,
     "metadata": {},
     "source": [
      "Apply"
     ]
    },
    {
     "cell_type": "markdown",
     "metadata": {},
     "source": [
      "Applying functions to the data"
     ]
    },
    {
     "cell_type": "code",
     "collapsed": false,
     "input": [
      "df.apply(np.cumsum)"
     ],
     "language": "python",
     "metadata": {},
     "outputs": [
      {
       "html": [
        "<div style=\"max-height:1000px;max-width:1500px;overflow:auto;\">\n",
        "<table border=\"1\" class=\"dataframe\">\n",
        "  <thead>\n",
        "    <tr style=\"text-align: right;\">\n",
        "      <th></th>\n",
        "      <th>A</th>\n",
        "      <th>B</th>\n",
        "      <th>C</th>\n",
        "      <th>D</th>\n",
        "      <th>F</th>\n",
        "    </tr>\n",
        "  </thead>\n",
        "  <tbody>\n",
        "    <tr>\n",
        "      <th>2013-01-01</th>\n",
        "      <td> 0.000000</td>\n",
        "      <td> 0.000000</td>\n",
        "      <td> 1.183654</td>\n",
        "      <td>  5</td>\n",
        "      <td>NaN</td>\n",
        "    </tr>\n",
        "    <tr>\n",
        "      <th>2013-01-02</th>\n",
        "      <td> 1.699907</td>\n",
        "      <td>-1.016551</td>\n",
        "      <td> 2.353306</td>\n",
        "      <td> 10</td>\n",
        "      <td>  1</td>\n",
        "    </tr>\n",
        "    <tr>\n",
        "      <th>2013-01-03</th>\n",
        "      <td> 0.488509</td>\n",
        "      <td>-2.166047</td>\n",
        "      <td> 1.551072</td>\n",
        "      <td> 15</td>\n",
        "      <td>  3</td>\n",
        "    </tr>\n",
        "    <tr>\n",
        "      <th>2013-01-04</th>\n",
        "      <td> 1.300811</td>\n",
        "      <td>-1.058771</td>\n",
        "      <td> 2.812972</td>\n",
        "      <td> 20</td>\n",
        "      <td>  6</td>\n",
        "    </tr>\n",
        "    <tr>\n",
        "      <th>2013-01-05</th>\n",
        "      <td> 2.438593</td>\n",
        "      <td>-0.870347</td>\n",
        "      <td> 3.345017</td>\n",
        "      <td> 25</td>\n",
        "      <td> 10</td>\n",
        "    </tr>\n",
        "    <tr>\n",
        "      <th>2013-01-06</th>\n",
        "      <td> 3.662741</td>\n",
        "      <td>-1.133177</td>\n",
        "      <td> 2.638508</td>\n",
        "      <td> 30</td>\n",
        "      <td> 15</td>\n",
        "    </tr>\n",
        "  </tbody>\n",
        "</table>\n",
        "</div>"
       ],
       "metadata": {},
       "output_type": "pyout",
       "prompt_number": 58,
       "text": [
        "                   A         B         C   D   F\n",
        "2013-01-01  0.000000  0.000000  1.183654   5 NaN\n",
        "2013-01-02  1.699907 -1.016551  2.353306  10   1\n",
        "2013-01-03  0.488509 -2.166047  1.551072  15   3\n",
        "2013-01-04  1.300811 -1.058771  2.812972  20   6\n",
        "2013-01-05  2.438593 -0.870347  3.345017  25  10\n",
        "2013-01-06  3.662741 -1.133177  2.638508  30  15"
       ]
      }
     ],
     "prompt_number": 58
    },
    {
     "cell_type": "code",
     "collapsed": false,
     "input": [
      "df.apply(lambda x: x.max() - x.min())"
     ],
     "language": "python",
     "metadata": {},
     "outputs": [
      {
       "metadata": {},
       "output_type": "pyout",
       "prompt_number": 57,
       "text": [
        "A    2.911305\n",
        "B    2.256772\n",
        "C    2.064134\n",
        "D    0.000000\n",
        "F    4.000000\n",
        "dtype: float64"
       ]
      }
     ],
     "prompt_number": 57
    },
    {
     "cell_type": "heading",
     "level": 3,
     "metadata": {},
     "source": [
      "Histogramming"
     ]
    },
    {
     "cell_type": "markdown",
     "metadata": {},
     "source": [
      "See more at :ref:`Histogramming and Discretization <basics.discretization>`"
     ]
    },
    {
     "cell_type": "code",
     "collapsed": false,
     "input": [
      "s = pd.Series(np.random.randint(0,7,size=10))\n",
      "s"
     ],
     "language": "python",
     "metadata": {},
     "outputs": [
      {
       "metadata": {},
       "output_type": "pyout",
       "prompt_number": 59,
       "text": [
        "0    5\n",
        "1    3\n",
        "2    5\n",
        "3    6\n",
        "4    3\n",
        "5    6\n",
        "6    6\n",
        "7    5\n",
        "8    4\n",
        "9    2\n",
        "dtype: int64"
       ]
      }
     ],
     "prompt_number": 59
    },
    {
     "cell_type": "code",
     "collapsed": false,
     "input": [
      "s.value_counts()"
     ],
     "language": "python",
     "metadata": {},
     "outputs": [
      {
       "metadata": {},
       "output_type": "pyout",
       "prompt_number": 60,
       "text": [
        "6    3\n",
        "5    3\n",
        "3    2\n",
        "4    1\n",
        "2    1\n",
        "dtype: int64"
       ]
      }
     ],
     "prompt_number": 60
    },
    {
     "cell_type": "heading",
     "level": 3,
     "metadata": {},
     "source": [
      "String Methods"
     ]
    },
    {
     "cell_type": "markdown",
     "metadata": {},
     "source": [
      "See more at :ref:`Vectorized String Methods <basics.string_methods>`"
     ]
    },
    {
     "cell_type": "code",
     "collapsed": false,
     "input": [
      "s = pd.Series(['A', 'B', 'C', 'Aaba', 'Baca', np.nan, 'CABA', 'dog', 'cat'])\n",
      "s.str.lower()"
     ],
     "language": "python",
     "metadata": {},
     "outputs": [
      {
       "metadata": {},
       "output_type": "pyout",
       "prompt_number": 61,
       "text": [
        "0       a\n",
        "1       b\n",
        "2       c\n",
        "3    aaba\n",
        "4    baca\n",
        "5     NaN\n",
        "6    caba\n",
        "7     dog\n",
        "8     cat\n",
        "dtype: object"
       ]
      }
     ],
     "prompt_number": 61
    },
    {
     "cell_type": "heading",
     "level": 2,
     "metadata": {},
     "source": [
      "Merge"
     ]
    },
    {
     "cell_type": "heading",
     "level": 3,
     "metadata": {},
     "source": [
      "Concat"
     ]
    },
    {
     "cell_type": "markdown",
     "metadata": {},
     "source": [
      "Pandas provides various facilities for easily combining together Series,\n",
      "DataFrame, and Panel objects with various kinds of set logic for the indexes\n",
      "and relational algebra functionality in the case of join / merge-type\n",
      "operations.\n",
      "\n",
      "See the :ref:`Merging section <merging>`\n",
      "\n",
      "Concatenating pandas objects together"
     ]
    },
    {
     "cell_type": "code",
     "collapsed": false,
     "input": [
      "df = pd.DataFrame(np.random.randn(10, 4))\n",
      "df"
     ],
     "language": "python",
     "metadata": {},
     "outputs": [
      {
       "html": [
        "<div style=\"max-height:1000px;max-width:1500px;overflow:auto;\">\n",
        "<table border=\"1\" class=\"dataframe\">\n",
        "  <thead>\n",
        "    <tr style=\"text-align: right;\">\n",
        "      <th></th>\n",
        "      <th>0</th>\n",
        "      <th>1</th>\n",
        "      <th>2</th>\n",
        "      <th>3</th>\n",
        "    </tr>\n",
        "  </thead>\n",
        "  <tbody>\n",
        "    <tr>\n",
        "      <th>0</th>\n",
        "      <td>-0.435290</td>\n",
        "      <td> 0.947481</td>\n",
        "      <td>-0.118195</td>\n",
        "      <td>-0.430814</td>\n",
        "    </tr>\n",
        "    <tr>\n",
        "      <th>1</th>\n",
        "      <td>-0.610303</td>\n",
        "      <td> 0.435731</td>\n",
        "      <td>-0.510484</td>\n",
        "      <td>-0.460856</td>\n",
        "    </tr>\n",
        "    <tr>\n",
        "      <th>2</th>\n",
        "      <td>-0.159185</td>\n",
        "      <td>-0.077610</td>\n",
        "      <td> 0.316635</td>\n",
        "      <td> 1.270297</td>\n",
        "    </tr>\n",
        "    <tr>\n",
        "      <th>3</th>\n",
        "      <td> 2.066167</td>\n",
        "      <td> 0.948610</td>\n",
        "      <td> 1.268968</td>\n",
        "      <td>-0.540647</td>\n",
        "    </tr>\n",
        "    <tr>\n",
        "      <th>4</th>\n",
        "      <td> 0.679082</td>\n",
        "      <td>-2.628474</td>\n",
        "      <td> 0.037032</td>\n",
        "      <td>-0.146345</td>\n",
        "    </tr>\n",
        "    <tr>\n",
        "      <th>5</th>\n",
        "      <td>-0.870881</td>\n",
        "      <td>-1.509812</td>\n",
        "      <td> 1.932069</td>\n",
        "      <td>-0.116330</td>\n",
        "    </tr>\n",
        "    <tr>\n",
        "      <th>6</th>\n",
        "      <td>-0.118692</td>\n",
        "      <td> 0.986632</td>\n",
        "      <td> 0.186265</td>\n",
        "      <td>-0.687366</td>\n",
        "    </tr>\n",
        "    <tr>\n",
        "      <th>7</th>\n",
        "      <td> 0.715979</td>\n",
        "      <td> 0.391714</td>\n",
        "      <td>-0.270193</td>\n",
        "      <td>-1.381534</td>\n",
        "    </tr>\n",
        "    <tr>\n",
        "      <th>8</th>\n",
        "      <td> 0.615821</td>\n",
        "      <td> 0.675495</td>\n",
        "      <td> 0.127029</td>\n",
        "      <td> 1.071116</td>\n",
        "    </tr>\n",
        "    <tr>\n",
        "      <th>9</th>\n",
        "      <td>-0.922091</td>\n",
        "      <td> 0.451574</td>\n",
        "      <td>-0.415176</td>\n",
        "      <td>-0.702740</td>\n",
        "    </tr>\n",
        "  </tbody>\n",
        "</table>\n",
        "</div>"
       ],
       "metadata": {},
       "output_type": "pyout",
       "prompt_number": 62,
       "text": [
        "          0         1         2         3\n",
        "0 -0.435290  0.947481 -0.118195 -0.430814\n",
        "1 -0.610303  0.435731 -0.510484 -0.460856\n",
        "2 -0.159185 -0.077610  0.316635  1.270297\n",
        "3  2.066167  0.948610  1.268968 -0.540647\n",
        "4  0.679082 -2.628474  0.037032 -0.146345\n",
        "5 -0.870881 -1.509812  1.932069 -0.116330\n",
        "6 -0.118692  0.986632  0.186265 -0.687366\n",
        "7  0.715979  0.391714 -0.270193 -1.381534\n",
        "8  0.615821  0.675495  0.127029  1.071116\n",
        "9 -0.922091  0.451574 -0.415176 -0.702740"
       ]
      }
     ],
     "prompt_number": 62
    },
    {
     "cell_type": "code",
     "collapsed": false,
     "input": [
      "# break it into pieces\n",
      "pieces = [df[:3], df[3:7], df[7:]]\n",
      "\n",
      "pd.concat(pieces)"
     ],
     "language": "python",
     "metadata": {},
     "outputs": [
      {
       "html": [
        "<div style=\"max-height:1000px;max-width:1500px;overflow:auto;\">\n",
        "<table border=\"1\" class=\"dataframe\">\n",
        "  <thead>\n",
        "    <tr style=\"text-align: right;\">\n",
        "      <th></th>\n",
        "      <th>0</th>\n",
        "      <th>1</th>\n",
        "      <th>2</th>\n",
        "      <th>3</th>\n",
        "    </tr>\n",
        "  </thead>\n",
        "  <tbody>\n",
        "    <tr>\n",
        "      <th>0</th>\n",
        "      <td>-0.435290</td>\n",
        "      <td> 0.947481</td>\n",
        "      <td>-0.118195</td>\n",
        "      <td>-0.430814</td>\n",
        "    </tr>\n",
        "    <tr>\n",
        "      <th>1</th>\n",
        "      <td>-0.610303</td>\n",
        "      <td> 0.435731</td>\n",
        "      <td>-0.510484</td>\n",
        "      <td>-0.460856</td>\n",
        "    </tr>\n",
        "    <tr>\n",
        "      <th>2</th>\n",
        "      <td>-0.159185</td>\n",
        "      <td>-0.077610</td>\n",
        "      <td> 0.316635</td>\n",
        "      <td> 1.270297</td>\n",
        "    </tr>\n",
        "    <tr>\n",
        "      <th>3</th>\n",
        "      <td> 2.066167</td>\n",
        "      <td> 0.948610</td>\n",
        "      <td> 1.268968</td>\n",
        "      <td>-0.540647</td>\n",
        "    </tr>\n",
        "    <tr>\n",
        "      <th>4</th>\n",
        "      <td> 0.679082</td>\n",
        "      <td>-2.628474</td>\n",
        "      <td> 0.037032</td>\n",
        "      <td>-0.146345</td>\n",
        "    </tr>\n",
        "    <tr>\n",
        "      <th>5</th>\n",
        "      <td>-0.870881</td>\n",
        "      <td>-1.509812</td>\n",
        "      <td> 1.932069</td>\n",
        "      <td>-0.116330</td>\n",
        "    </tr>\n",
        "    <tr>\n",
        "      <th>6</th>\n",
        "      <td>-0.118692</td>\n",
        "      <td> 0.986632</td>\n",
        "      <td> 0.186265</td>\n",
        "      <td>-0.687366</td>\n",
        "    </tr>\n",
        "    <tr>\n",
        "      <th>7</th>\n",
        "      <td> 0.715979</td>\n",
        "      <td> 0.391714</td>\n",
        "      <td>-0.270193</td>\n",
        "      <td>-1.381534</td>\n",
        "    </tr>\n",
        "    <tr>\n",
        "      <th>8</th>\n",
        "      <td> 0.615821</td>\n",
        "      <td> 0.675495</td>\n",
        "      <td> 0.127029</td>\n",
        "      <td> 1.071116</td>\n",
        "    </tr>\n",
        "    <tr>\n",
        "      <th>9</th>\n",
        "      <td>-0.922091</td>\n",
        "      <td> 0.451574</td>\n",
        "      <td>-0.415176</td>\n",
        "      <td>-0.702740</td>\n",
        "    </tr>\n",
        "  </tbody>\n",
        "</table>\n",
        "</div>"
       ],
       "metadata": {},
       "output_type": "pyout",
       "prompt_number": 63,
       "text": [
        "          0         1         2         3\n",
        "0 -0.435290  0.947481 -0.118195 -0.430814\n",
        "1 -0.610303  0.435731 -0.510484 -0.460856\n",
        "2 -0.159185 -0.077610  0.316635  1.270297\n",
        "3  2.066167  0.948610  1.268968 -0.540647\n",
        "4  0.679082 -2.628474  0.037032 -0.146345\n",
        "5 -0.870881 -1.509812  1.932069 -0.116330\n",
        "6 -0.118692  0.986632  0.186265 -0.687366\n",
        "7  0.715979  0.391714 -0.270193 -1.381534\n",
        "8  0.615821  0.675495  0.127029  1.071116\n",
        "9 -0.922091  0.451574 -0.415176 -0.702740"
       ]
      }
     ],
     "prompt_number": 63
    },
    {
     "cell_type": "heading",
     "level": 3,
     "metadata": {},
     "source": [
      "Join"
     ]
    },
    {
     "cell_type": "markdown",
     "metadata": {},
     "source": [
      "SQL style merges. See the :ref:`Database style joining <merging.join>`"
     ]
    },
    {
     "cell_type": "code",
     "collapsed": false,
     "input": [
      "left = pd.DataFrame({'key': ['foo', 'foo'], 'lval': [1, 2]})\n",
      "right = pd.DataFrame({'key': ['foo', 'foo'], 'rval': [4, 5]})"
     ],
     "language": "python",
     "metadata": {},
     "outputs": [],
     "prompt_number": 64
    },
    {
     "cell_type": "code",
     "collapsed": false,
     "input": [
      "left"
     ],
     "language": "python",
     "metadata": {},
     "outputs": [
      {
       "html": [
        "<div style=\"max-height:1000px;max-width:1500px;overflow:auto;\">\n",
        "<table border=\"1\" class=\"dataframe\">\n",
        "  <thead>\n",
        "    <tr style=\"text-align: right;\">\n",
        "      <th></th>\n",
        "      <th>key</th>\n",
        "      <th>lval</th>\n",
        "    </tr>\n",
        "  </thead>\n",
        "  <tbody>\n",
        "    <tr>\n",
        "      <th>0</th>\n",
        "      <td> foo</td>\n",
        "      <td> 1</td>\n",
        "    </tr>\n",
        "    <tr>\n",
        "      <th>1</th>\n",
        "      <td> foo</td>\n",
        "      <td> 2</td>\n",
        "    </tr>\n",
        "  </tbody>\n",
        "</table>\n",
        "</div>"
       ],
       "metadata": {},
       "output_type": "pyout",
       "prompt_number": 65,
       "text": [
        "   key  lval\n",
        "0  foo     1\n",
        "1  foo     2"
       ]
      }
     ],
     "prompt_number": 65
    },
    {
     "cell_type": "code",
     "collapsed": false,
     "input": [
      "right"
     ],
     "language": "python",
     "metadata": {},
     "outputs": [
      {
       "html": [
        "<div style=\"max-height:1000px;max-width:1500px;overflow:auto;\">\n",
        "<table border=\"1\" class=\"dataframe\">\n",
        "  <thead>\n",
        "    <tr style=\"text-align: right;\">\n",
        "      <th></th>\n",
        "      <th>key</th>\n",
        "      <th>rval</th>\n",
        "    </tr>\n",
        "  </thead>\n",
        "  <tbody>\n",
        "    <tr>\n",
        "      <th>0</th>\n",
        "      <td> foo</td>\n",
        "      <td> 4</td>\n",
        "    </tr>\n",
        "    <tr>\n",
        "      <th>1</th>\n",
        "      <td> foo</td>\n",
        "      <td> 5</td>\n",
        "    </tr>\n",
        "  </tbody>\n",
        "</table>\n",
        "</div>"
       ],
       "metadata": {},
       "output_type": "pyout",
       "prompt_number": 66,
       "text": [
        "   key  rval\n",
        "0  foo     4\n",
        "1  foo     5"
       ]
      }
     ],
     "prompt_number": 66
    },
    {
     "cell_type": "code",
     "collapsed": false,
     "input": [
      "pd.merge(left, right, on='key')"
     ],
     "language": "python",
     "metadata": {},
     "outputs": [
      {
       "html": [
        "<div style=\"max-height:1000px;max-width:1500px;overflow:auto;\">\n",
        "<table border=\"1\" class=\"dataframe\">\n",
        "  <thead>\n",
        "    <tr style=\"text-align: right;\">\n",
        "      <th></th>\n",
        "      <th>key</th>\n",
        "      <th>lval</th>\n",
        "      <th>rval</th>\n",
        "    </tr>\n",
        "  </thead>\n",
        "  <tbody>\n",
        "    <tr>\n",
        "      <th>0</th>\n",
        "      <td> foo</td>\n",
        "      <td> 1</td>\n",
        "      <td> 4</td>\n",
        "    </tr>\n",
        "    <tr>\n",
        "      <th>1</th>\n",
        "      <td> foo</td>\n",
        "      <td> 1</td>\n",
        "      <td> 5</td>\n",
        "    </tr>\n",
        "    <tr>\n",
        "      <th>2</th>\n",
        "      <td> foo</td>\n",
        "      <td> 2</td>\n",
        "      <td> 4</td>\n",
        "    </tr>\n",
        "    <tr>\n",
        "      <th>3</th>\n",
        "      <td> foo</td>\n",
        "      <td> 2</td>\n",
        "      <td> 5</td>\n",
        "    </tr>\n",
        "  </tbody>\n",
        "</table>\n",
        "</div>"
       ],
       "metadata": {},
       "output_type": "pyout",
       "prompt_number": 67,
       "text": [
        "   key  lval  rval\n",
        "0  foo     1     4\n",
        "1  foo     1     5\n",
        "2  foo     2     4\n",
        "3  foo     2     5"
       ]
      }
     ],
     "prompt_number": 67
    },
    {
     "cell_type": "heading",
     "level": 3,
     "metadata": {},
     "source": [
      "Append"
     ]
    },
    {
     "cell_type": "markdown",
     "metadata": {},
     "source": [
      "Append rows to a dataframe. See the :ref:`Appending <merging.concatenation>`"
     ]
    },
    {
     "cell_type": "code",
     "collapsed": false,
     "input": [
      "df = pd.DataFrame(np.random.randn(8, 4), columns=['A','B','C','D'])\n",
      "df"
     ],
     "language": "python",
     "metadata": {},
     "outputs": [
      {
       "html": [
        "<div style=\"max-height:1000px;max-width:1500px;overflow:auto;\">\n",
        "<table border=\"1\" class=\"dataframe\">\n",
        "  <thead>\n",
        "    <tr style=\"text-align: right;\">\n",
        "      <th></th>\n",
        "      <th>A</th>\n",
        "      <th>B</th>\n",
        "      <th>C</th>\n",
        "      <th>D</th>\n",
        "    </tr>\n",
        "  </thead>\n",
        "  <tbody>\n",
        "    <tr>\n",
        "      <th>0</th>\n",
        "      <td> 0.549780</td>\n",
        "      <td> 0.481058</td>\n",
        "      <td>-2.259535</td>\n",
        "      <td> 2.713714</td>\n",
        "    </tr>\n",
        "    <tr>\n",
        "      <th>1</th>\n",
        "      <td>-0.654839</td>\n",
        "      <td> 0.422646</td>\n",
        "      <td>-0.271211</td>\n",
        "      <td> 0.310019</td>\n",
        "    </tr>\n",
        "    <tr>\n",
        "      <th>2</th>\n",
        "      <td>-0.667435</td>\n",
        "      <td> 0.687279</td>\n",
        "      <td>-0.280928</td>\n",
        "      <td>-0.688767</td>\n",
        "    </tr>\n",
        "    <tr>\n",
        "      <th>3</th>\n",
        "      <td>-1.011685</td>\n",
        "      <td> 0.547866</td>\n",
        "      <td>-0.125524</td>\n",
        "      <td>-0.389078</td>\n",
        "    </tr>\n",
        "    <tr>\n",
        "      <th>4</th>\n",
        "      <td>-0.243117</td>\n",
        "      <td> 1.178908</td>\n",
        "      <td> 1.007319</td>\n",
        "      <td>-0.351963</td>\n",
        "    </tr>\n",
        "    <tr>\n",
        "      <th>5</th>\n",
        "      <td>-0.028793</td>\n",
        "      <td> 2.130518</td>\n",
        "      <td> 0.175993</td>\n",
        "      <td>-0.703719</td>\n",
        "    </tr>\n",
        "    <tr>\n",
        "      <th>6</th>\n",
        "      <td> 1.358921</td>\n",
        "      <td>-0.138434</td>\n",
        "      <td>-0.844204</td>\n",
        "      <td>-0.001019</td>\n",
        "    </tr>\n",
        "    <tr>\n",
        "      <th>7</th>\n",
        "      <td>-0.125304</td>\n",
        "      <td>-0.827948</td>\n",
        "      <td>-1.478062</td>\n",
        "      <td> 0.474842</td>\n",
        "    </tr>\n",
        "  </tbody>\n",
        "</table>\n",
        "</div>"
       ],
       "metadata": {},
       "output_type": "pyout",
       "prompt_number": 68,
       "text": [
        "          A         B         C         D\n",
        "0  0.549780  0.481058 -2.259535  2.713714\n",
        "1 -0.654839  0.422646 -0.271211  0.310019\n",
        "2 -0.667435  0.687279 -0.280928 -0.688767\n",
        "3 -1.011685  0.547866 -0.125524 -0.389078\n",
        "4 -0.243117  1.178908  1.007319 -0.351963\n",
        "5 -0.028793  2.130518  0.175993 -0.703719\n",
        "6  1.358921 -0.138434 -0.844204 -0.001019\n",
        "7 -0.125304 -0.827948 -1.478062  0.474842"
       ]
      }
     ],
     "prompt_number": 68
    },
    {
     "cell_type": "code",
     "collapsed": false,
     "input": [
      "s = df.iloc[3]\n",
      "df.append(s, ignore_index=True)"
     ],
     "language": "python",
     "metadata": {},
     "outputs": [
      {
       "html": [
        "<div style=\"max-height:1000px;max-width:1500px;overflow:auto;\">\n",
        "<table border=\"1\" class=\"dataframe\">\n",
        "  <thead>\n",
        "    <tr style=\"text-align: right;\">\n",
        "      <th></th>\n",
        "      <th>A</th>\n",
        "      <th>B</th>\n",
        "      <th>C</th>\n",
        "      <th>D</th>\n",
        "    </tr>\n",
        "  </thead>\n",
        "  <tbody>\n",
        "    <tr>\n",
        "      <th>0</th>\n",
        "      <td> 0.549780</td>\n",
        "      <td> 0.481058</td>\n",
        "      <td>-2.259535</td>\n",
        "      <td> 2.713714</td>\n",
        "    </tr>\n",
        "    <tr>\n",
        "      <th>1</th>\n",
        "      <td>-0.654839</td>\n",
        "      <td> 0.422646</td>\n",
        "      <td>-0.271211</td>\n",
        "      <td> 0.310019</td>\n",
        "    </tr>\n",
        "    <tr>\n",
        "      <th>2</th>\n",
        "      <td>-0.667435</td>\n",
        "      <td> 0.687279</td>\n",
        "      <td>-0.280928</td>\n",
        "      <td>-0.688767</td>\n",
        "    </tr>\n",
        "    <tr>\n",
        "      <th>3</th>\n",
        "      <td>-1.011685</td>\n",
        "      <td> 0.547866</td>\n",
        "      <td>-0.125524</td>\n",
        "      <td>-0.389078</td>\n",
        "    </tr>\n",
        "    <tr>\n",
        "      <th>4</th>\n",
        "      <td>-0.243117</td>\n",
        "      <td> 1.178908</td>\n",
        "      <td> 1.007319</td>\n",
        "      <td>-0.351963</td>\n",
        "    </tr>\n",
        "    <tr>\n",
        "      <th>5</th>\n",
        "      <td>-0.028793</td>\n",
        "      <td> 2.130518</td>\n",
        "      <td> 0.175993</td>\n",
        "      <td>-0.703719</td>\n",
        "    </tr>\n",
        "    <tr>\n",
        "      <th>6</th>\n",
        "      <td> 1.358921</td>\n",
        "      <td>-0.138434</td>\n",
        "      <td>-0.844204</td>\n",
        "      <td>-0.001019</td>\n",
        "    </tr>\n",
        "    <tr>\n",
        "      <th>7</th>\n",
        "      <td>-0.125304</td>\n",
        "      <td>-0.827948</td>\n",
        "      <td>-1.478062</td>\n",
        "      <td> 0.474842</td>\n",
        "    </tr>\n",
        "    <tr>\n",
        "      <th>8</th>\n",
        "      <td>-1.011685</td>\n",
        "      <td> 0.547866</td>\n",
        "      <td>-0.125524</td>\n",
        "      <td>-0.389078</td>\n",
        "    </tr>\n",
        "  </tbody>\n",
        "</table>\n",
        "</div>"
       ],
       "metadata": {},
       "output_type": "pyout",
       "prompt_number": 69,
       "text": [
        "          A         B         C         D\n",
        "0  0.549780  0.481058 -2.259535  2.713714\n",
        "1 -0.654839  0.422646 -0.271211  0.310019\n",
        "2 -0.667435  0.687279 -0.280928 -0.688767\n",
        "3 -1.011685  0.547866 -0.125524 -0.389078\n",
        "4 -0.243117  1.178908  1.007319 -0.351963\n",
        "5 -0.028793  2.130518  0.175993 -0.703719\n",
        "6  1.358921 -0.138434 -0.844204 -0.001019\n",
        "7 -0.125304 -0.827948 -1.478062  0.474842\n",
        "8 -1.011685  0.547866 -0.125524 -0.389078"
       ]
      }
     ],
     "prompt_number": 69
    },
    {
     "cell_type": "heading",
     "level": 2,
     "metadata": {},
     "source": [
      "Grouping"
     ]
    },
    {
     "cell_type": "markdown",
     "metadata": {},
     "source": [
      "By \"group by\" we are referring to a process involving one or more of the\n",
      "following steps\n",
      "\n",
      " - **Splitting** the data into groups based on some criteria\n",
      " - **Applying** a function to each group independently\n",
      " - **Combining** the results into a data structure\n",
      "\n",
      "See the :ref:`Grouping section <groupby>`"
     ]
    },
    {
     "cell_type": "code",
     "collapsed": false,
     "input": [
      "df = pd.DataFrame({'A' : ['foo', 'bar', 'foo', 'bar',\n",
      "                         'foo', 'bar', 'foo', 'foo'],\n",
      "                   'B' : ['one', 'one', 'two', 'three',\n",
      "                         'two', 'two', 'one', 'three'],\n",
      "                   'C' : np.random.randn(8),\n",
      "                   'D' : np.random.randn(8)})\n",
      "df"
     ],
     "language": "python",
     "metadata": {},
     "outputs": [
      {
       "html": [
        "<div style=\"max-height:1000px;max-width:1500px;overflow:auto;\">\n",
        "<table border=\"1\" class=\"dataframe\">\n",
        "  <thead>\n",
        "    <tr style=\"text-align: right;\">\n",
        "      <th></th>\n",
        "      <th>A</th>\n",
        "      <th>B</th>\n",
        "      <th>C</th>\n",
        "      <th>D</th>\n",
        "    </tr>\n",
        "  </thead>\n",
        "  <tbody>\n",
        "    <tr>\n",
        "      <th>0</th>\n",
        "      <td> foo</td>\n",
        "      <td>   one</td>\n",
        "      <td>-0.281758</td>\n",
        "      <td>-1.243566</td>\n",
        "    </tr>\n",
        "    <tr>\n",
        "      <th>1</th>\n",
        "      <td> bar</td>\n",
        "      <td>   one</td>\n",
        "      <td>-1.241306</td>\n",
        "      <td>-0.348244</td>\n",
        "    </tr>\n",
        "    <tr>\n",
        "      <th>2</th>\n",
        "      <td> foo</td>\n",
        "      <td>   two</td>\n",
        "      <td>-0.427351</td>\n",
        "      <td> 1.330461</td>\n",
        "    </tr>\n",
        "    <tr>\n",
        "      <th>3</th>\n",
        "      <td> bar</td>\n",
        "      <td> three</td>\n",
        "      <td> 0.980502</td>\n",
        "      <td> 0.532635</td>\n",
        "    </tr>\n",
        "    <tr>\n",
        "      <th>4</th>\n",
        "      <td> foo</td>\n",
        "      <td>   two</td>\n",
        "      <td>-2.158277</td>\n",
        "      <td>-0.010517</td>\n",
        "    </tr>\n",
        "    <tr>\n",
        "      <th>5</th>\n",
        "      <td> bar</td>\n",
        "      <td>   two</td>\n",
        "      <td> 1.108486</td>\n",
        "      <td> 1.033399</td>\n",
        "    </tr>\n",
        "    <tr>\n",
        "      <th>6</th>\n",
        "      <td> foo</td>\n",
        "      <td>   one</td>\n",
        "      <td>-1.165021</td>\n",
        "      <td> 0.726128</td>\n",
        "    </tr>\n",
        "    <tr>\n",
        "      <th>7</th>\n",
        "      <td> foo</td>\n",
        "      <td> three</td>\n",
        "      <td>-0.615341</td>\n",
        "      <td>-1.564539</td>\n",
        "    </tr>\n",
        "  </tbody>\n",
        "</table>\n",
        "</div>"
       ],
       "metadata": {},
       "output_type": "pyout",
       "prompt_number": 70,
       "text": [
        "     A      B         C         D\n",
        "0  foo    one -0.281758 -1.243566\n",
        "1  bar    one -1.241306 -0.348244\n",
        "2  foo    two -0.427351  1.330461\n",
        "3  bar  three  0.980502  0.532635\n",
        "4  foo    two -2.158277 -0.010517\n",
        "5  bar    two  1.108486  1.033399\n",
        "6  foo    one -1.165021  0.726128\n",
        "7  foo  three -0.615341 -1.564539"
       ]
      }
     ],
     "prompt_number": 70
    },
    {
     "cell_type": "markdown",
     "metadata": {},
     "source": [
      "Grouping and then applying a function ``sum`` to the resulting groups."
     ]
    },
    {
     "cell_type": "code",
     "collapsed": false,
     "input": [
      "df.groupby('A').sum()"
     ],
     "language": "python",
     "metadata": {},
     "outputs": [
      {
       "html": [
        "<div style=\"max-height:1000px;max-width:1500px;overflow:auto;\">\n",
        "<table border=\"1\" class=\"dataframe\">\n",
        "  <thead>\n",
        "    <tr style=\"text-align: right;\">\n",
        "      <th></th>\n",
        "      <th>C</th>\n",
        "      <th>D</th>\n",
        "    </tr>\n",
        "    <tr>\n",
        "      <th>A</th>\n",
        "      <th></th>\n",
        "      <th></th>\n",
        "    </tr>\n",
        "  </thead>\n",
        "  <tbody>\n",
        "    <tr>\n",
        "      <th>bar</th>\n",
        "      <td> 0.847683</td>\n",
        "      <td> 1.217790</td>\n",
        "    </tr>\n",
        "    <tr>\n",
        "      <th>foo</th>\n",
        "      <td>-4.647748</td>\n",
        "      <td>-0.762033</td>\n",
        "    </tr>\n",
        "  </tbody>\n",
        "</table>\n",
        "</div>"
       ],
       "metadata": {},
       "output_type": "pyout",
       "prompt_number": 74,
       "text": [
        "            C         D\n",
        "A                      \n",
        "bar  0.847683  1.217790\n",
        "foo -4.647748 -0.762033"
       ]
      }
     ],
     "prompt_number": 74
    },
    {
     "cell_type": "markdown",
     "metadata": {},
     "source": [
      "Grouping by multiple columns forms a hierarchical index, which we then apply\n",
      "the function."
     ]
    },
    {
     "cell_type": "code",
     "collapsed": false,
     "input": [
      "df.groupby(['A','B']).sum()"
     ],
     "language": "python",
     "metadata": {},
     "outputs": [
      {
       "html": [
        "<div style=\"max-height:1000px;max-width:1500px;overflow:auto;\">\n",
        "<table border=\"1\" class=\"dataframe\">\n",
        "  <thead>\n",
        "    <tr style=\"text-align: right;\">\n",
        "      <th></th>\n",
        "      <th></th>\n",
        "      <th>C</th>\n",
        "      <th>D</th>\n",
        "    </tr>\n",
        "    <tr>\n",
        "      <th>A</th>\n",
        "      <th>B</th>\n",
        "      <th></th>\n",
        "      <th></th>\n",
        "    </tr>\n",
        "  </thead>\n",
        "  <tbody>\n",
        "    <tr>\n",
        "      <th rowspan=\"3\" valign=\"top\">bar</th>\n",
        "      <th>one</th>\n",
        "      <td>-1.241306</td>\n",
        "      <td>-0.348244</td>\n",
        "    </tr>\n",
        "    <tr>\n",
        "      <th>three</th>\n",
        "      <td> 0.980502</td>\n",
        "      <td> 0.532635</td>\n",
        "    </tr>\n",
        "    <tr>\n",
        "      <th>two</th>\n",
        "      <td> 1.108486</td>\n",
        "      <td> 1.033399</td>\n",
        "    </tr>\n",
        "    <tr>\n",
        "      <th rowspan=\"3\" valign=\"top\">foo</th>\n",
        "      <th>one</th>\n",
        "      <td>-1.446779</td>\n",
        "      <td>-0.517438</td>\n",
        "    </tr>\n",
        "    <tr>\n",
        "      <th>three</th>\n",
        "      <td>-0.615341</td>\n",
        "      <td>-1.564539</td>\n",
        "    </tr>\n",
        "    <tr>\n",
        "      <th>two</th>\n",
        "      <td>-2.585628</td>\n",
        "      <td> 1.319944</td>\n",
        "    </tr>\n",
        "  </tbody>\n",
        "</table>\n",
        "</div>"
       ],
       "metadata": {},
       "output_type": "pyout",
       "prompt_number": 72,
       "text": [
        "                  C         D\n",
        "A   B                        \n",
        "bar one   -1.241306 -0.348244\n",
        "    three  0.980502  0.532635\n",
        "    two    1.108486  1.033399\n",
        "foo one   -1.446779 -0.517438\n",
        "    three -0.615341 -1.564539\n",
        "    two   -2.585628  1.319944"
       ]
      }
     ],
     "prompt_number": 72
    },
    {
     "cell_type": "heading",
     "level": 2,
     "metadata": {},
     "source": [
      "Reshaping"
     ]
    },
    {
     "cell_type": "markdown",
     "metadata": {},
     "source": [
      "See the section on :ref:`Hierarchical Indexing <indexing.hierarchical>` and\n",
      "see the section on :ref:`Reshaping <reshaping.stacking>`)."
     ]
    },
    {
     "cell_type": "heading",
     "level": 3,
     "metadata": {},
     "source": [
      "Stack"
     ]
    },
    {
     "cell_type": "code",
     "collapsed": false,
     "input": [
      "tuples = list(zip(*[['bar', 'bar', 'baz', 'baz',\n",
      "                     'foo', 'foo', 'qux', 'qux'],\n",
      "                    ['one', 'two', 'one', 'two',\n",
      "                     'one', 'two', 'one', 'two']]))\n",
      "index = pd.MultiIndex.from_tuples(tuples, names=['first', 'second'])\n",
      "df = pd.DataFrame(np.random.randn(8, 2), index=index, columns=['A', 'B'])\n",
      "df2 = df[:4]\n",
      "df2"
     ],
     "language": "python",
     "metadata": {},
     "outputs": [
      {
       "html": [
        "<div style=\"max-height:1000px;max-width:1500px;overflow:auto;\">\n",
        "<table border=\"1\" class=\"dataframe\">\n",
        "  <thead>\n",
        "    <tr style=\"text-align: right;\">\n",
        "      <th></th>\n",
        "      <th></th>\n",
        "      <th>A</th>\n",
        "      <th>B</th>\n",
        "    </tr>\n",
        "    <tr>\n",
        "      <th>first</th>\n",
        "      <th>second</th>\n",
        "      <th></th>\n",
        "      <th></th>\n",
        "    </tr>\n",
        "  </thead>\n",
        "  <tbody>\n",
        "    <tr>\n",
        "      <th rowspan=\"2\" valign=\"top\">bar</th>\n",
        "      <th>one</th>\n",
        "      <td> 0.472128</td>\n",
        "      <td>-0.143102</td>\n",
        "    </tr>\n",
        "    <tr>\n",
        "      <th>two</th>\n",
        "      <td> 0.862901</td>\n",
        "      <td> 0.324673</td>\n",
        "    </tr>\n",
        "    <tr>\n",
        "      <th rowspan=\"2\" valign=\"top\">baz</th>\n",
        "      <th>one</th>\n",
        "      <td> 0.104115</td>\n",
        "      <td>-0.355250</td>\n",
        "    </tr>\n",
        "    <tr>\n",
        "      <th>two</th>\n",
        "      <td>-0.888386</td>\n",
        "      <td> 0.443374</td>\n",
        "    </tr>\n",
        "  </tbody>\n",
        "</table>\n",
        "</div>"
       ],
       "metadata": {},
       "output_type": "pyout",
       "prompt_number": 75,
       "text": [
        "                     A         B\n",
        "first second                    \n",
        "bar   one     0.472128 -0.143102\n",
        "      two     0.862901  0.324673\n",
        "baz   one     0.104115 -0.355250\n",
        "      two    -0.888386  0.443374"
       ]
      }
     ],
     "prompt_number": 75
    },
    {
     "cell_type": "markdown",
     "metadata": {},
     "source": [
      "The ``stack`` function \"compresses\" a level in the DataFrame's columns."
     ]
    },
    {
     "cell_type": "code",
     "collapsed": false,
     "input": [
      "stacked = df2.stack()\n",
      "stacked"
     ],
     "language": "python",
     "metadata": {},
     "outputs": [
      {
       "metadata": {},
       "output_type": "pyout",
       "prompt_number": 76,
       "text": [
        "first  second   \n",
        "bar    one     A    0.472128\n",
        "               B   -0.143102\n",
        "       two     A    0.862901\n",
        "               B    0.324673\n",
        "baz    one     A    0.104115\n",
        "               B   -0.355250\n",
        "       two     A   -0.888386\n",
        "               B    0.443374\n",
        "dtype: float64"
       ]
      }
     ],
     "prompt_number": 76
    },
    {
     "cell_type": "markdown",
     "metadata": {},
     "source": [
      "With a \"stacked\" DataFrame or Series (having a ``MultiIndex`` as the\n",
      "``index``), the inverse operation of ``stack`` is ``unstack``, which by default\n",
      "unstacks the **last level**:"
     ]
    },
    {
     "cell_type": "code",
     "collapsed": false,
     "input": [
      "stacked.unstack()"
     ],
     "language": "python",
     "metadata": {},
     "outputs": [
      {
       "html": [
        "<div style=\"max-height:1000px;max-width:1500px;overflow:auto;\">\n",
        "<table border=\"1\" class=\"dataframe\">\n",
        "  <thead>\n",
        "    <tr style=\"text-align: right;\">\n",
        "      <th></th>\n",
        "      <th></th>\n",
        "      <th>A</th>\n",
        "      <th>B</th>\n",
        "    </tr>\n",
        "    <tr>\n",
        "      <th>first</th>\n",
        "      <th>second</th>\n",
        "      <th></th>\n",
        "      <th></th>\n",
        "    </tr>\n",
        "  </thead>\n",
        "  <tbody>\n",
        "    <tr>\n",
        "      <th rowspan=\"2\" valign=\"top\">bar</th>\n",
        "      <th>one</th>\n",
        "      <td> 0.472128</td>\n",
        "      <td>-0.143102</td>\n",
        "    </tr>\n",
        "    <tr>\n",
        "      <th>two</th>\n",
        "      <td> 0.862901</td>\n",
        "      <td> 0.324673</td>\n",
        "    </tr>\n",
        "    <tr>\n",
        "      <th rowspan=\"2\" valign=\"top\">baz</th>\n",
        "      <th>one</th>\n",
        "      <td> 0.104115</td>\n",
        "      <td>-0.355250</td>\n",
        "    </tr>\n",
        "    <tr>\n",
        "      <th>two</th>\n",
        "      <td>-0.888386</td>\n",
        "      <td> 0.443374</td>\n",
        "    </tr>\n",
        "  </tbody>\n",
        "</table>\n",
        "</div>"
       ],
       "metadata": {},
       "output_type": "pyout",
       "prompt_number": 77,
       "text": [
        "                     A         B\n",
        "first second                    \n",
        "bar   one     0.472128 -0.143102\n",
        "      two     0.862901  0.324673\n",
        "baz   one     0.104115 -0.355250\n",
        "      two    -0.888386  0.443374"
       ]
      }
     ],
     "prompt_number": 77
    },
    {
     "cell_type": "code",
     "collapsed": false,
     "input": [
      "stacked.unstack(1)"
     ],
     "language": "python",
     "metadata": {},
     "outputs": [
      {
       "html": [
        "<div style=\"max-height:1000px;max-width:1500px;overflow:auto;\">\n",
        "<table border=\"1\" class=\"dataframe\">\n",
        "  <thead>\n",
        "    <tr style=\"text-align: right;\">\n",
        "      <th></th>\n",
        "      <th>second</th>\n",
        "      <th>one</th>\n",
        "      <th>two</th>\n",
        "    </tr>\n",
        "    <tr>\n",
        "      <th>first</th>\n",
        "      <th></th>\n",
        "      <th></th>\n",
        "      <th></th>\n",
        "    </tr>\n",
        "  </thead>\n",
        "  <tbody>\n",
        "    <tr>\n",
        "      <th rowspan=\"2\" valign=\"top\">bar</th>\n",
        "      <th>A</th>\n",
        "      <td> 0.472128</td>\n",
        "      <td> 0.862901</td>\n",
        "    </tr>\n",
        "    <tr>\n",
        "      <th>B</th>\n",
        "      <td>-0.143102</td>\n",
        "      <td> 0.324673</td>\n",
        "    </tr>\n",
        "    <tr>\n",
        "      <th rowspan=\"2\" valign=\"top\">baz</th>\n",
        "      <th>A</th>\n",
        "      <td> 0.104115</td>\n",
        "      <td>-0.888386</td>\n",
        "    </tr>\n",
        "    <tr>\n",
        "      <th>B</th>\n",
        "      <td>-0.355250</td>\n",
        "      <td> 0.443374</td>\n",
        "    </tr>\n",
        "  </tbody>\n",
        "</table>\n",
        "</div>"
       ],
       "metadata": {},
       "output_type": "pyout",
       "prompt_number": 78,
       "text": [
        "second        one       two\n",
        "first                      \n",
        "bar   A  0.472128  0.862901\n",
        "      B -0.143102  0.324673\n",
        "baz   A  0.104115 -0.888386\n",
        "      B -0.355250  0.443374"
       ]
      }
     ],
     "prompt_number": 78
    },
    {
     "cell_type": "code",
     "collapsed": false,
     "input": [
      "stacked.unstack(0)"
     ],
     "language": "python",
     "metadata": {},
     "outputs": [
      {
       "html": [
        "<div style=\"max-height:1000px;max-width:1500px;overflow:auto;\">\n",
        "<table border=\"1\" class=\"dataframe\">\n",
        "  <thead>\n",
        "    <tr style=\"text-align: right;\">\n",
        "      <th></th>\n",
        "      <th>first</th>\n",
        "      <th>bar</th>\n",
        "      <th>baz</th>\n",
        "    </tr>\n",
        "    <tr>\n",
        "      <th>second</th>\n",
        "      <th></th>\n",
        "      <th></th>\n",
        "      <th></th>\n",
        "    </tr>\n",
        "  </thead>\n",
        "  <tbody>\n",
        "    <tr>\n",
        "      <th rowspan=\"2\" valign=\"top\">one</th>\n",
        "      <th>A</th>\n",
        "      <td> 0.472128</td>\n",
        "      <td> 0.104115</td>\n",
        "    </tr>\n",
        "    <tr>\n",
        "      <th>B</th>\n",
        "      <td>-0.143102</td>\n",
        "      <td>-0.355250</td>\n",
        "    </tr>\n",
        "    <tr>\n",
        "      <th rowspan=\"2\" valign=\"top\">two</th>\n",
        "      <th>A</th>\n",
        "      <td> 0.862901</td>\n",
        "      <td>-0.888386</td>\n",
        "    </tr>\n",
        "    <tr>\n",
        "      <th>B</th>\n",
        "      <td> 0.324673</td>\n",
        "      <td> 0.443374</td>\n",
        "    </tr>\n",
        "  </tbody>\n",
        "</table>\n",
        "</div>"
       ],
       "metadata": {},
       "output_type": "pyout",
       "prompt_number": 79,
       "text": [
        "first          bar       baz\n",
        "second                      \n",
        "one    A  0.472128  0.104115\n",
        "       B -0.143102 -0.355250\n",
        "two    A  0.862901 -0.888386\n",
        "       B  0.324673  0.443374"
       ]
      }
     ],
     "prompt_number": 79
    },
    {
     "cell_type": "heading",
     "level": 3,
     "metadata": {},
     "source": [
      "Pivot Tables"
     ]
    },
    {
     "cell_type": "markdown",
     "metadata": {},
     "source": [
      "See the section on :ref:`Pivot Tables <reshaping.pivot>`."
     ]
    },
    {
     "cell_type": "code",
     "collapsed": false,
     "input": [
      "df = pd.DataFrame({'A' : ['one', 'one', 'two', 'three'] * 3,\n",
      "                   'B' : ['A', 'B', 'C'] * 4,\n",
      "                   'C' : ['foo', 'foo', 'foo', 'bar', 'bar', 'bar'] * 2,\n",
      "                   'D' : np.random.randn(12),\n",
      "                   'E' : np.random.randn(12)})\n",
      "df"
     ],
     "language": "python",
     "metadata": {},
     "outputs": [
      {
       "html": [
        "<div style=\"max-height:1000px;max-width:1500px;overflow:auto;\">\n",
        "<table border=\"1\" class=\"dataframe\">\n",
        "  <thead>\n",
        "    <tr style=\"text-align: right;\">\n",
        "      <th></th>\n",
        "      <th>A</th>\n",
        "      <th>B</th>\n",
        "      <th>C</th>\n",
        "      <th>D</th>\n",
        "      <th>E</th>\n",
        "    </tr>\n",
        "  </thead>\n",
        "  <tbody>\n",
        "    <tr>\n",
        "      <th>0 </th>\n",
        "      <td>   one</td>\n",
        "      <td> A</td>\n",
        "      <td> foo</td>\n",
        "      <td>-0.231906</td>\n",
        "      <td> 2.056450</td>\n",
        "    </tr>\n",
        "    <tr>\n",
        "      <th>1 </th>\n",
        "      <td>   one</td>\n",
        "      <td> B</td>\n",
        "      <td> foo</td>\n",
        "      <td> 1.193918</td>\n",
        "      <td>-0.352410</td>\n",
        "    </tr>\n",
        "    <tr>\n",
        "      <th>2 </th>\n",
        "      <td>   two</td>\n",
        "      <td> C</td>\n",
        "      <td> foo</td>\n",
        "      <td> 0.192545</td>\n",
        "      <td> 1.421021</td>\n",
        "    </tr>\n",
        "    <tr>\n",
        "      <th>3 </th>\n",
        "      <td> three</td>\n",
        "      <td> A</td>\n",
        "      <td> bar</td>\n",
        "      <td> 1.211188</td>\n",
        "      <td> 0.507871</td>\n",
        "    </tr>\n",
        "    <tr>\n",
        "      <th>4 </th>\n",
        "      <td>   one</td>\n",
        "      <td> B</td>\n",
        "      <td> bar</td>\n",
        "      <td> 0.500268</td>\n",
        "      <td>-0.025396</td>\n",
        "    </tr>\n",
        "    <tr>\n",
        "      <th>5 </th>\n",
        "      <td>   one</td>\n",
        "      <td> C</td>\n",
        "      <td> bar</td>\n",
        "      <td> 1.911774</td>\n",
        "      <td> 2.942448</td>\n",
        "    </tr>\n",
        "    <tr>\n",
        "      <th>6 </th>\n",
        "      <td>   two</td>\n",
        "      <td> A</td>\n",
        "      <td> foo</td>\n",
        "      <td> 0.300246</td>\n",
        "      <td>-1.380208</td>\n",
        "    </tr>\n",
        "    <tr>\n",
        "      <th>7 </th>\n",
        "      <td> three</td>\n",
        "      <td> B</td>\n",
        "      <td> foo</td>\n",
        "      <td>-0.109651</td>\n",
        "      <td> 0.850337</td>\n",
        "    </tr>\n",
        "    <tr>\n",
        "      <th>8 </th>\n",
        "      <td>   one</td>\n",
        "      <td> C</td>\n",
        "      <td> foo</td>\n",
        "      <td>-0.865575</td>\n",
        "      <td> 0.727430</td>\n",
        "    </tr>\n",
        "    <tr>\n",
        "      <th>9 </th>\n",
        "      <td>   one</td>\n",
        "      <td> A</td>\n",
        "      <td> bar</td>\n",
        "      <td>-0.482885</td>\n",
        "      <td>-1.403804</td>\n",
        "    </tr>\n",
        "    <tr>\n",
        "      <th>10</th>\n",
        "      <td>   two</td>\n",
        "      <td> B</td>\n",
        "      <td> bar</td>\n",
        "      <td>-0.541103</td>\n",
        "      <td> 1.049136</td>\n",
        "    </tr>\n",
        "    <tr>\n",
        "      <th>11</th>\n",
        "      <td> three</td>\n",
        "      <td> C</td>\n",
        "      <td> bar</td>\n",
        "      <td> 0.853619</td>\n",
        "      <td> 0.453723</td>\n",
        "    </tr>\n",
        "  </tbody>\n",
        "</table>\n",
        "</div>"
       ],
       "metadata": {},
       "output_type": "pyout",
       "prompt_number": 80,
       "text": [
        "        A  B    C         D         E\n",
        "0     one  A  foo -0.231906  2.056450\n",
        "1     one  B  foo  1.193918 -0.352410\n",
        "2     two  C  foo  0.192545  1.421021\n",
        "3   three  A  bar  1.211188  0.507871\n",
        "4     one  B  bar  0.500268 -0.025396\n",
        "5     one  C  bar  1.911774  2.942448\n",
        "6     two  A  foo  0.300246 -1.380208\n",
        "7   three  B  foo -0.109651  0.850337\n",
        "8     one  C  foo -0.865575  0.727430\n",
        "9     one  A  bar -0.482885 -1.403804\n",
        "10    two  B  bar -0.541103  1.049136\n",
        "11  three  C  bar  0.853619  0.453723"
       ]
      }
     ],
     "prompt_number": 80
    },
    {
     "cell_type": "markdown",
     "metadata": {},
     "source": [
      "We can produce pivot tables from this data very easily:"
     ]
    },
    {
     "cell_type": "code",
     "collapsed": false,
     "input": [
      "pd.pivot_table(df, values='D', rows=['A', 'B'], cols=['C'])"
     ],
     "language": "python",
     "metadata": {},
     "outputs": [
      {
       "html": [
        "<div style=\"max-height:1000px;max-width:1500px;overflow:auto;\">\n",
        "<table border=\"1\" class=\"dataframe\">\n",
        "  <thead>\n",
        "    <tr style=\"text-align: right;\">\n",
        "      <th></th>\n",
        "      <th>C</th>\n",
        "      <th>bar</th>\n",
        "      <th>foo</th>\n",
        "    </tr>\n",
        "    <tr>\n",
        "      <th>A</th>\n",
        "      <th>B</th>\n",
        "      <th></th>\n",
        "      <th></th>\n",
        "    </tr>\n",
        "  </thead>\n",
        "  <tbody>\n",
        "    <tr>\n",
        "      <th rowspan=\"3\" valign=\"top\">one</th>\n",
        "      <th>A</th>\n",
        "      <td>-0.482885</td>\n",
        "      <td>-0.231906</td>\n",
        "    </tr>\n",
        "    <tr>\n",
        "      <th>B</th>\n",
        "      <td> 0.500268</td>\n",
        "      <td> 1.193918</td>\n",
        "    </tr>\n",
        "    <tr>\n",
        "      <th>C</th>\n",
        "      <td> 1.911774</td>\n",
        "      <td>-0.865575</td>\n",
        "    </tr>\n",
        "    <tr>\n",
        "      <th rowspan=\"3\" valign=\"top\">three</th>\n",
        "      <th>A</th>\n",
        "      <td> 1.211188</td>\n",
        "      <td>      NaN</td>\n",
        "    </tr>\n",
        "    <tr>\n",
        "      <th>B</th>\n",
        "      <td>      NaN</td>\n",
        "      <td>-0.109651</td>\n",
        "    </tr>\n",
        "    <tr>\n",
        "      <th>C</th>\n",
        "      <td> 0.853619</td>\n",
        "      <td>      NaN</td>\n",
        "    </tr>\n",
        "    <tr>\n",
        "      <th rowspan=\"3\" valign=\"top\">two</th>\n",
        "      <th>A</th>\n",
        "      <td>      NaN</td>\n",
        "      <td> 0.300246</td>\n",
        "    </tr>\n",
        "    <tr>\n",
        "      <th>B</th>\n",
        "      <td>-0.541103</td>\n",
        "      <td>      NaN</td>\n",
        "    </tr>\n",
        "    <tr>\n",
        "      <th>C</th>\n",
        "      <td>      NaN</td>\n",
        "      <td> 0.192545</td>\n",
        "    </tr>\n",
        "  </tbody>\n",
        "</table>\n",
        "</div>"
       ],
       "metadata": {},
       "output_type": "pyout",
       "prompt_number": 81,
       "text": [
        "C             bar       foo\n",
        "A     B                    \n",
        "one   A -0.482885 -0.231906\n",
        "      B  0.500268  1.193918\n",
        "      C  1.911774 -0.865575\n",
        "three A  1.211188       NaN\n",
        "      B       NaN -0.109651\n",
        "      C  0.853619       NaN\n",
        "two   A       NaN  0.300246\n",
        "      B -0.541103       NaN\n",
        "      C       NaN  0.192545"
       ]
      }
     ],
     "prompt_number": 81
    },
    {
     "cell_type": "heading",
     "level": 2,
     "metadata": {},
     "source": [
      "Time Series"
     ]
    },
    {
     "cell_type": "markdown",
     "metadata": {},
     "source": [
      "Pandas has simple, powerful, and efficient functionality for performing\n",
      "resampling operations during frequency conversion (e.g., converting secondly\n",
      "data into 5-minutely data). This is extremely common in, but not limited to,\n",
      "financial applications. See the :ref:`Time Series section <timeseries>`"
     ]
    },
    {
     "cell_type": "code",
     "collapsed": false,
     "input": [
      "rng = pd.date_range('1/1/2012', periods=100, freq='S')\n",
      "ts = pd.Series(np.random.randint(0, 500, len(rng)), index=rng)\n",
      "ts.resample('5Min', how='sum')"
     ],
     "language": "python",
     "metadata": {},
     "outputs": [
      {
       "metadata": {},
       "output_type": "pyout",
       "prompt_number": 82,
       "text": [
        "2012-01-01    25401\n",
        "Freq: 5T, dtype: int64"
       ]
      }
     ],
     "prompt_number": 82
    },
    {
     "cell_type": "markdown",
     "metadata": {},
     "source": [
      "Time zone representation"
     ]
    },
    {
     "cell_type": "code",
     "collapsed": false,
     "input": [
      "rng = pd.date_range('3/6/2012 00:00', periods=5, freq='D')\n",
      "ts = pd.Series(np.random.randn(len(rng)), rng)\n",
      "ts\n",
      "ts_utc = ts.tz_localize('UTC')\n",
      "ts_utc"
     ],
     "language": "python",
     "metadata": {},
     "outputs": [
      {
       "metadata": {},
       "output_type": "pyout",
       "prompt_number": 83,
       "text": [
        "2012-03-06 00:00:00+00:00    0.276174\n",
        "2012-03-07 00:00:00+00:00    0.542266\n",
        "2012-03-08 00:00:00+00:00   -1.536276\n",
        "2012-03-09 00:00:00+00:00    0.790843\n",
        "2012-03-10 00:00:00+00:00    1.397462\n",
        "Freq: D, dtype: float64"
       ]
      }
     ],
     "prompt_number": 83
    },
    {
     "cell_type": "markdown",
     "metadata": {},
     "source": [
      "Convert to another time zone"
     ]
    },
    {
     "cell_type": "code",
     "collapsed": false,
     "input": [
      "ts_utc.tz_convert('US/Eastern')"
     ],
     "language": "python",
     "metadata": {},
     "outputs": [
      {
       "metadata": {},
       "output_type": "pyout",
       "prompt_number": 84,
       "text": [
        "2012-03-05 19:00:00-05:00    0.276174\n",
        "2012-03-06 19:00:00-05:00    0.542266\n",
        "2012-03-07 19:00:00-05:00   -1.536276\n",
        "2012-03-08 19:00:00-05:00    0.790843\n",
        "2012-03-09 19:00:00-05:00    1.397462\n",
        "Freq: D, dtype: float64"
       ]
      }
     ],
     "prompt_number": 84
    },
    {
     "cell_type": "markdown",
     "metadata": {},
     "source": [
      "Converting between time span representations"
     ]
    },
    {
     "cell_type": "code",
     "collapsed": false,
     "input": [
      "rng = pd.date_range('1/1/2012', periods=5, freq='M')\n",
      "ts = pd.Series(np.random.randn(len(rng)), index=rng)\n",
      "ts"
     ],
     "language": "python",
     "metadata": {},
     "outputs": [
      {
       "metadata": {},
       "output_type": "pyout",
       "prompt_number": 85,
       "text": [
        "2012-01-31   -0.375641\n",
        "2012-02-29    1.851445\n",
        "2012-03-31    0.594689\n",
        "2012-04-30   -0.127522\n",
        "2012-05-31    0.211137\n",
        "Freq: M, dtype: float64"
       ]
      }
     ],
     "prompt_number": 85
    },
    {
     "cell_type": "code",
     "collapsed": false,
     "input": [
      "ps = ts.to_period()\n",
      "ps"
     ],
     "language": "python",
     "metadata": {},
     "outputs": [
      {
       "metadata": {},
       "output_type": "pyout",
       "prompt_number": 86,
       "text": [
        "2012-01   -0.375641\n",
        "2012-02    1.851445\n",
        "2012-03    0.594689\n",
        "2012-04   -0.127522\n",
        "2012-05    0.211137\n",
        "Freq: M, dtype: float64"
       ]
      }
     ],
     "prompt_number": 86
    },
    {
     "cell_type": "code",
     "collapsed": false,
     "input": [
      "ps.to_timestamp()"
     ],
     "language": "python",
     "metadata": {},
     "outputs": [
      {
       "metadata": {},
       "output_type": "pyout",
       "prompt_number": 87,
       "text": [
        "2012-01-01   -0.375641\n",
        "2012-02-01    1.851445\n",
        "2012-03-01    0.594689\n",
        "2012-04-01   -0.127522\n",
        "2012-05-01    0.211137\n",
        "Freq: MS, dtype: float64"
       ]
      }
     ],
     "prompt_number": 87
    },
    {
     "cell_type": "markdown",
     "metadata": {},
     "source": [
      "Converting between period and timestamp enables some convenient arithmetic\n",
      "functions to be used. In the following example, we convert a quarterly\n",
      "frequency with year ending in November to 9am of the end of the month following\n",
      "the quarter end:"
     ]
    },
    {
     "cell_type": "code",
     "collapsed": false,
     "input": [
      "prng = pd.period_range('1990Q1', '2000Q4', freq='Q-NOV')\n",
      "ts = pd.Series(np.random.randn(len(prng)), prng)\n",
      "ts.index = (prng.asfreq('M', 'e') + 1).asfreq('H', 's') + 9\n",
      "ts.head()"
     ],
     "language": "python",
     "metadata": {},
     "outputs": [
      {
       "metadata": {},
       "output_type": "pyout",
       "prompt_number": 88,
       "text": [
        "1990-03-01 09:00   -1.540597\n",
        "1990-06-01 09:00   -0.407263\n",
        "1990-09-01 09:00    1.694674\n",
        "1990-12-01 09:00   -0.646677\n",
        "1991-03-01 09:00    0.007497\n",
        "Freq: H, dtype: float64"
       ]
      }
     ],
     "prompt_number": 88
    },
    {
     "cell_type": "heading",
     "level": 2,
     "metadata": {},
     "source": [
      "Plotting"
     ]
    },
    {
     "cell_type": "code",
     "collapsed": false,
     "input": [
      ":ref:`Plotting <visualization>` docs.\n",
      "\n",
      ":suppress:\n",
      "\n",
      "import matplotlib.pyplot as plt\n",
      "plt.close('all')\n",
      "from pandas import options\n",
      "options.display.mpl_style='default'"
     ],
     "language": "python",
     "metadata": {},
     "outputs": []
    },
    {
     "cell_type": "code",
     "collapsed": false,
     "input": [
      "ts = pd.Series(np.random.randn(1000), index=pd.date_range('1/1/2000', periods=1000))\n",
      "ts = ts.cumsum()\n",
      "#savefig series_plot_basic.png\n",
      "ts.plot()"
     ],
     "language": "python",
     "metadata": {},
     "outputs": [
      {
       "metadata": {},
       "output_type": "pyout",
       "prompt_number": 90,
       "text": [
        "<matplotlib.axes.AxesSubplot at 0x2fe3cd0>"
       ]
      },
      {
       "metadata": {},
       "output_type": "display_data",
       "png": "[encoded data removed]",
       "text": [
        "<matplotlib.figure.Figure at 0x2fe3290>"
       ]
      }
     ],
     "prompt_number": 90
    },
    {
     "cell_type": "markdown",
     "metadata": {},
     "source": [
      "On DataFrame, ``plot`` is a convenience to plot all of the columns with labels:"
     ]
    },
    {
     "cell_type": "code",
     "collapsed": false,
     "input": [
      "df = pd.DataFrame(np.random.randn(1000, 4), index=ts.index,\n",
      "                  columns=['A', 'B', 'C', 'D'])\n",
      "df = df.cumsum()\n",
      "\n",
      "#savefig frame_plot_basic.png\n",
      "plt.figure(); df.plot(); plt.legend(loc='best')"
     ],
     "language": "python",
     "metadata": {},
     "outputs": [
      {
       "metadata": {},
       "output_type": "pyout",
       "prompt_number": 91,
       "text": [
        "<matplotlib.legend.Legend at 0x347a1d0>"
       ]
      },
      {
       "metadata": {},
       "output_type": "display_data",
       "text": [
        "<matplotlib.figure.Figure at 0x2ef9410>"
       ]
      },
      {
       "metadata": {},
       "output_type": "display_data",
       "png": "[encoded data removed]",
       "text": [
        "<matplotlib.figure.Figure at 0x3470290>"
       ]
      }
     ],
     "prompt_number": 91
    },
    {
     "cell_type": "heading",
     "level": 2,
     "metadata": {},
     "source": [
      "Getting Data In/Out"
     ]
    },
    {
     "cell_type": "markdown",
     "metadata": {},
     "source": [
      "The Pandas I/O api is a set of top level reader functions accessed like pd.read_csv() that generally return a pandas object.\n",
      "\n",
      " - read_csv\n",
      " - read_excel\n",
      " - read_hdf\n",
      " - read_sql\n",
      " - read_json\n",
      " - read_html\n",
      " - read_stata\n",
      " - read_clipboard\n",
      " - read_pickle\n",
      "\n",
      "The corresponding writer functions are object methods that are accessed like df.to_csv()\n",
      "\n",
      " - to_csv\n",
      " - to_excel\n",
      " - to_hdf\n",
      " - to_sql\n",
      " - to_json\n",
      " - to_html\n",
      " - to_stata\n",
      " - to_clipboard\n",
      " - to_pickle\n",
      "        "
     ]
    },
    {
     "cell_type": "heading",
     "level": 3,
     "metadata": {},
     "source": [
      "CSV"
     ]
    },
    {
     "cell_type": "markdown",
     "metadata": {},
     "source": [
      ":ref:`Writing to a csv file <io.store_in_csv>`"
     ]
    },
    {
     "cell_type": "code",
     "collapsed": false,
     "input": [
      "df.to_csv('foo.csv')"
     ],
     "language": "python",
     "metadata": {},
     "outputs": [],
     "prompt_number": 92
    },
    {
     "cell_type": "markdown",
     "metadata": {},
     "source": [
      ":ref:`Reading from a csv file <io.read_csv_table>`"
     ]
    },
    {
     "cell_type": "code",
     "collapsed": false,
     "input": [
      "pd.read_csv('foo.csv')"
     ],
     "language": "python",
     "metadata": {},
     "outputs": [
      {
       "html": [
        "<pre>\n",
        "&lt;class 'pandas.core.frame.DataFrame'&gt;\n",
        "Int64Index: 1000 entries, 0 to 999\n",
        "Data columns (total 5 columns):\n",
        "Unnamed: 0    1000  non-null values\n",
        "A             1000  non-null values\n",
        "B             1000  non-null values\n",
        "C             1000  non-null values\n",
        "D             1000  non-null values\n",
        "dtypes: float64(4), object(1)\n",
        "</pre>"
       ],
       "metadata": {},
       "output_type": "pyout",
       "prompt_number": 97,
       "text": [
        "<class 'pandas.core.frame.DataFrame'>\n",
        "Int64Index: 1000 entries, 0 to 999\n",
        "Data columns (total 5 columns):\n",
        "Unnamed: 0    1000  non-null values\n",
        "A             1000  non-null values\n",
        "B             1000  non-null values\n",
        "C             1000  non-null values\n",
        "D             1000  non-null values\n",
        "dtypes: float64(4), object(1)"
       ]
      }
     ],
     "prompt_number": 97
    },
    {
     "cell_type": "code",
     "collapsed": false,
     "input": [
      "#os.remove('foo.csv')"
     ],
     "language": "python",
     "metadata": {},
     "outputs": [],
     "prompt_number": 98
    },
    {
     "cell_type": "heading",
     "level": 3,
     "metadata": {},
     "source": [
      "HDF5"
     ]
    },
    {
     "cell_type": "markdown",
     "metadata": {},
     "source": [
      "Reading and writing to :ref:`HDFStores <io.hdf5>`\n",
      "\n",
      "Requires PyTables\n",
      "\n",
      "Writing to a HDF5 Store"
     ]
    },
    {
     "cell_type": "code",
     "collapsed": false,
     "input": [
      "#df.to_hdf('foo.h5','df')"
     ],
     "language": "python",
     "metadata": {},
     "outputs": [],
     "prompt_number": 100
    },
    {
     "cell_type": "markdown",
     "metadata": {},
     "source": [
      "Reading from a HDF5 Store"
     ]
    },
    {
     "cell_type": "code",
     "collapsed": false,
     "input": [
      "#pd.read_hdf('foo.h5','df')"
     ],
     "language": "python",
     "metadata": {},
     "outputs": []
    },
    {
     "cell_type": "code",
     "collapsed": false,
     "input": [
      "#os.remove('foo.h5')"
     ],
     "language": "python",
     "metadata": {},
     "outputs": []
    },
    {
     "cell_type": "heading",
     "level": 3,
     "metadata": {},
     "source": [
      "Excel"
     ]
    },
    {
     "cell_type": "markdown",
     "metadata": {},
     "source": [
      "Reading and writing to :ref:`MS Excel <io.excel>`\n",
      "\n",
      "Requires openpyxl\n",
      "\n",
      "Writing to an excel file"
     ]
    },
    {
     "cell_type": "code",
     "collapsed": false,
     "input": [
      "#df.to_excel('foo.xlsx', sheet_name='Sheet1')"
     ],
     "language": "python",
     "metadata": {},
     "outputs": [],
     "prompt_number": 102
    },
    {
     "cell_type": "markdown",
     "metadata": {},
     "source": [
      "Reading from an excel file"
     ]
    },
    {
     "cell_type": "code",
     "collapsed": false,
     "input": [
      "#pd.read_excel('foo.xlsx', 'Sheet1', index_col=None, na_values=['NA'])"
     ],
     "language": "python",
     "metadata": {},
     "outputs": []
    },
    {
     "cell_type": "code",
     "collapsed": false,
     "input": [
      "#os.remove('foo.xlsx')"
     ],
     "language": "python",
     "metadata": {},
     "outputs": []
    }
   ],
   "metadata": {}
  }
 ]
}
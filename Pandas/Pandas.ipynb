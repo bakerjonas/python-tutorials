{
 "metadata": {
  "name": ""
 },
 "nbformat": 3,
 "nbformat_minor": 0,
 "worksheets": [
  {
   "cells": [
    {
     "cell_type": "heading",
     "level": 1,
     "metadata": {},
     "source": [
      "Short introduction to Pandas"
     ]
    },
    {
     "cell_type": "markdown",
     "metadata": {},
     "source": [
      "This is a short introduction to pandas, geared mainly for new users.\n",
      "You can see more complex recipes in the :ref:`Cookbook<cookbook>`\n",
      "\n",
      "Customarily, we import as follows"
     ]
    },
    {
     "cell_type": "code",
     "collapsed": false,
     "input": [
      "import pandas as pd\n",
      "import numpy as np\n",
      "import matplotlib.pyplot as plt"
     ],
     "language": "python",
     "metadata": {},
     "outputs": [],
     "prompt_number": 3
    },
    {
     "cell_type": "heading",
     "level": 2,
     "metadata": {},
     "source": [
      "Object Creation"
     ]
    },
    {
     "cell_type": "markdown",
     "metadata": {},
     "source": [
      "See the :ref:`Data Structure Intro section <dsintro>`\n",
      "\n",
      "Creating a ``Series`` by passing a list of values, letting pandas create a default\n",
      "integer index"
     ]
    },
    {
     "cell_type": "code",
     "collapsed": false,
     "input": [
      "s = pd.Series([1,3,5,np.nan,6,8])\n",
      "s"
     ],
     "language": "python",
     "metadata": {},
     "outputs": [
      {
       "output_type": "pyout",
       "prompt_number": 4,
       "text": [
        "0     1\n",
        "1     3\n",
        "2     5\n",
        "3   NaN\n",
        "4     6\n",
        "5     8"
       ]
      }
     ],
     "prompt_number": 4
    },
    {
     "cell_type": "markdown",
     "metadata": {},
     "source": [
      "Creating a ``DataFrame`` by passing a numpy array, with a datetime index and labeled columns."
     ]
    },
    {
     "cell_type": "code",
     "collapsed": false,
     "input": [
      "dates = pd.date_range('20130101',periods=6)\n",
      "dates\n",
      "df = pd.DataFrame(np.random.randn(6,4),index=dates,columns=list('ABCD'))\n",
      "df"
     ],
     "language": "python",
     "metadata": {},
     "outputs": []
    },
    {
     "cell_type": "markdown",
     "metadata": {},
     "source": [
      "Creating a ``DataFrame`` by passing a dict of objects that can be converted to series-like."
     ]
    },
    {
     "cell_type": "code",
     "collapsed": false,
     "input": [
      "df2 = pd.DataFrame({ 'A' : 1.,\n",
      "                     'B' : pd.Timestamp('20130102'),\n",
      "                     'C' : pd.Series(1,index=list(range(4)),dtype='float32'),\n",
      "                     'D' : np.array([3] * 4,dtype='int32'),\n",
      "                     'E' : 'foo' })\n",
      "df2"
     ],
     "language": "python",
     "metadata": {},
     "outputs": []
    },
    {
     "cell_type": "markdown",
     "metadata": {},
     "source": [
      "Having specific :ref:`dtypes <basics.dtypes>`"
     ]
    },
    {
     "cell_type": "code",
     "collapsed": false,
     "input": [
      "df2.dtypes"
     ],
     "language": "python",
     "metadata": {},
     "outputs": []
    },
    {
     "cell_type": "markdown",
     "metadata": {},
     "source": [
      "If you're using IPython, tab completion for column names (as well as public\n",
      "attributes) is automatically enabled. Here's a subset of the attributes that\n",
      "will be completed:\n",
      "\n",
      "\n",
      "@verbatim\n",
      "In [1]: df2.<TAB>\n",
      "\n",
      "df2.A                  df2.boxplot\n",
      "df2.abs                df2.C\n",
      "df2.add                df2.clip\n",
      "df2.add_prefix         df2.clip_lower\n",
      "df2.add_suffix         df2.clip_upper\n",
      "df2.align              df2.columns\n",
      "df2.all                df2.combine\n",
      "df2.any                df2.combineAdd\n",
      "df2.append             df2.combine_first\n",
      "df2.apply              df2.combineMult\n",
      "df2.applymap           df2.compound\n",
      "df2.as_blocks          df2.consolidate\n",
      "df2.asfreq             df2.convert_objects\n",
      "df2.as_matrix          df2.copy\n",
      "df2.astype             df2.corr\n",
      "df2.at                 df2.corrwith\n",
      "df2.at_time            df2.count\n",
      "df2.axes               df2.cov\n",
      "df2.B                  df2.cummax\n",
      "df2.between_time       df2.cummin\n",
      "df2.bfill              df2.cumprod\n",
      "df2.blocks             df2.cumsum\n",
      "df2.bool               df2.D\n",
      "\n",
      "As you can see, the columns ``A``, ``B``, ``C``, and ``D`` are automatically\n",
      "tab completed. ``E`` is there as well; the rest of the attributes have been\n",
      "truncated for brevity."
     ]
    },
    {
     "cell_type": "heading",
     "level": 2,
     "metadata": {},
     "source": [
      "Viewing Data"
     ]
    },
    {
     "cell_type": "markdown",
     "metadata": {},
     "source": [
      "See the :ref:`Basics section <basics>`\n",
      "\n",
      "See the top & bottom rows of the frame"
     ]
    },
    {
     "cell_type": "code",
     "collapsed": false,
     "input": [
      "df.head()\n",
      "df.tail(3)"
     ],
     "language": "python",
     "metadata": {},
     "outputs": []
    },
    {
     "cell_type": "markdown",
     "metadata": {},
     "source": [
      "Display the index,columns, and the underlying numpy data"
     ]
    },
    {
     "cell_type": "code",
     "collapsed": false,
     "input": [
      "df.index\n",
      "df.columns\n",
      "df.values"
     ],
     "language": "python",
     "metadata": {},
     "outputs": []
    },
    {
     "cell_type": "markdown",
     "metadata": {},
     "source": [
      "Describe shows a quick statistic summary of your data"
     ]
    },
    {
     "cell_type": "code",
     "collapsed": false,
     "input": [
      "msdf.describe()"
     ],
     "language": "python",
     "metadata": {},
     "outputs": []
    },
    {
     "cell_type": "markdown",
     "metadata": {},
     "source": [
      "Transposing your data"
     ]
    },
    {
     "cell_type": "code",
     "collapsed": false,
     "input": [
      "df.T"
     ],
     "language": "python",
     "metadata": {},
     "outputs": []
    },
    {
     "cell_type": "markdown",
     "metadata": {},
     "source": [
      "Sorting by an axis"
     ]
    },
    {
     "cell_type": "code",
     "collapsed": false,
     "input": [
      "df.sort_index(axis=1, ascending=False)"
     ],
     "language": "python",
     "metadata": {},
     "outputs": []
    },
    {
     "cell_type": "markdown",
     "metadata": {},
     "source": [
      "Sorting by values"
     ]
    },
    {
     "cell_type": "code",
     "collapsed": false,
     "input": [
      "df.sort(columns='B')"
     ],
     "language": "python",
     "metadata": {},
     "outputs": []
    },
    {
     "cell_type": "heading",
     "level": 2,
     "metadata": {},
     "source": [
      "Selection"
     ]
    },
    {
     "cell_type": "markdown",
     "metadata": {},
     "source": [
      "While standard Python / Numpy expressions for selecting and setting are\n",
      "intuitive and come in handy for interactive work, for production code, we\n",
      "recommend the optimized pandas data access methods, ``.at``, ``.iat``,\n",
      "``.loc``, ``.iloc`` and ``.ix``.\n",
      "\n",
      "See the :ref:`Indexing section <indexing>` and below."
     ]
    },
    {
     "cell_type": "heading",
     "level": 3,
     "metadata": {},
     "source": [
      "Getting"
     ]
    },
    {
     "cell_type": "markdown",
     "metadata": {},
     "source": [
      "Selecting a single column, which yields a ``Series``,\n",
      "equivalent to ``df.A``"
     ]
    },
    {
     "cell_type": "code",
     "collapsed": false,
     "input": [
      "df['A']"
     ],
     "language": "python",
     "metadata": {},
     "outputs": []
    },
    {
     "cell_type": "markdown",
     "metadata": {},
     "source": [
      "Selecting via ``[]``, which slices the rows."
     ]
    },
    {
     "cell_type": "code",
     "collapsed": false,
     "input": [
      "df[0:3]\n",
      "df['20130102':'20130104']"
     ],
     "language": "python",
     "metadata": {},
     "outputs": []
    },
    {
     "cell_type": "heading",
     "level": 3,
     "metadata": {},
     "source": [
      "Selection by Label"
     ]
    },
    {
     "cell_type": "markdown",
     "metadata": {},
     "source": [
      "See more in :ref:`Selection by Label <indexing.label>`\n",
      "\n",
      "For getting a cross section using a label"
     ]
    },
    {
     "cell_type": "code",
     "collapsed": false,
     "input": [
      "df.loc[dates[0]]"
     ],
     "language": "python",
     "metadata": {},
     "outputs": []
    },
    {
     "cell_type": "markdown",
     "metadata": {},
     "source": [
      "Selecting on a multi-axis by label"
     ]
    },
    {
     "cell_type": "code",
     "collapsed": false,
     "input": [
      "df.loc[:,['A','B']]"
     ],
     "language": "python",
     "metadata": {},
     "outputs": []
    },
    {
     "cell_type": "markdown",
     "metadata": {},
     "source": [
      "Showing label slicing, both endpoints are *included*"
     ]
    },
    {
     "cell_type": "code",
     "collapsed": false,
     "input": [
      "df.loc['20130102':'20130104',['A','B']]"
     ],
     "language": "python",
     "metadata": {},
     "outputs": []
    },
    {
     "cell_type": "markdown",
     "metadata": {},
     "source": [
      "Reduction in the dimensions of the returned object"
     ]
    },
    {
     "cell_type": "code",
     "collapsed": false,
     "input": [
      "df.loc['20130102',['A','B']]"
     ],
     "language": "python",
     "metadata": {},
     "outputs": []
    },
    {
     "cell_type": "markdown",
     "metadata": {},
     "source": [
      "For getting a scalar value"
     ]
    },
    {
     "cell_type": "code",
     "collapsed": false,
     "input": [
      "df.loc[dates[0],'A']"
     ],
     "language": "python",
     "metadata": {},
     "outputs": []
    },
    {
     "cell_type": "markdown",
     "metadata": {},
     "source": [
      "For getting fast access to a scalar (equiv to the prior method)"
     ]
    },
    {
     "cell_type": "code",
     "collapsed": false,
     "input": [
      "df.at[dates[0],'A']"
     ],
     "language": "python",
     "metadata": {},
     "outputs": []
    },
    {
     "cell_type": "heading",
     "level": 3,
     "metadata": {},
     "source": [
      "Selection by Position"
     ]
    },
    {
     "cell_type": "markdown",
     "metadata": {},
     "source": [
      "See more in :ref:`Selection by Position <indexing.integer>`\n",
      "Select via the position of the passed integers\n",
      "\n"
     ]
    },
    {
     "cell_type": "code",
     "collapsed": false,
     "input": [
      "df.iloc[3]"
     ],
     "language": "python",
     "metadata": {},
     "outputs": []
    },
    {
     "cell_type": "markdown",
     "metadata": {},
     "source": [
      "By integer slices, acting similar to numpy/python"
     ]
    },
    {
     "cell_type": "code",
     "collapsed": false,
     "input": [
      "df.iloc[3:5,0:2]"
     ],
     "language": "python",
     "metadata": {},
     "outputs": []
    },
    {
     "cell_type": "markdown",
     "metadata": {},
     "source": [
      "By lists of integer position locations, similar to the numpy/python style"
     ]
    },
    {
     "cell_type": "code",
     "collapsed": false,
     "input": [
      "df.iloc[[1,2,4],[0,2]]"
     ],
     "language": "python",
     "metadata": {},
     "outputs": []
    },
    {
     "cell_type": "markdown",
     "metadata": {},
     "source": [
      "For slicing rows explicitly"
     ]
    },
    {
     "cell_type": "code",
     "collapsed": false,
     "input": [
      "df.iloc[1:3,:]"
     ],
     "language": "python",
     "metadata": {},
     "outputs": []
    },
    {
     "cell_type": "markdown",
     "metadata": {},
     "source": [
      "For slicing column explicitly"
     ]
    },
    {
     "cell_type": "code",
     "collapsed": false,
     "input": [
      "df.iloc[:,1:3]"
     ],
     "language": "python",
     "metadata": {},
     "outputs": []
    },
    {
     "cell_type": "markdown",
     "metadata": {},
     "source": [
      "For getting a value explicity"
     ]
    },
    {
     "cell_type": "code",
     "collapsed": false,
     "input": [
      "df.iloc[1,1]"
     ],
     "language": "python",
     "metadata": {},
     "outputs": []
    },
    {
     "cell_type": "markdown",
     "metadata": {},
     "source": [
      "For getting fast access to a scalar (equiv to the prior method)"
     ]
    },
    {
     "cell_type": "code",
     "collapsed": false,
     "input": [
      "df.iat[1,1]"
     ],
     "language": "python",
     "metadata": {},
     "outputs": []
    },
    {
     "cell_type": "markdown",
     "metadata": {},
     "source": [
      "There is one signficant departure from standard python/numpy slicing semantics.\n",
      "python/numpy allow slicing past the end of an array without an associated\n",
      "error."
     ]
    },
    {
     "cell_type": "code",
     "collapsed": false,
     "input": [
      " # these are allowed in python/numpy.\n",
      " x = list('abcdef')\n",
      " x[4:10]\n",
      " x[8:10]\n",
      "\n",
      "Pandas will detect this and raise ``IndexError``, rather than return an empty\n",
      "structure.\n",
      "\n",
      "::\n",
      "\n",
      " >>> df.iloc[:,8:10]\n",
      " IndexError: out-of-bounds on slice (end)\n",
      "\n",
      "Boolean Indexing\n",
      "~~~~~~~~~~~~~~~~\n",
      "\n",
      "Using a single column's values to select data.\n",
      "\n",
      "\n",
      "df[df.A > 0]\n",
      "\n",
      "A ``where`` operation for getting.\n",
      "\n",
      "\n",
      "df[df > 0]\n",
      "\n",
      "Setting\n",
      "~~~~~~~\n",
      "\n",
      "Setting a new column automatically aligns the data\n",
      "by the indexes\n",
      "\n",
      "\n",
      "s1 = pd.Series([1,2,3,4,5,6],index=pd.date_range('20130102',periods=6))\n",
      "s1\n",
      "df['F'] = s1\n",
      "\n",
      "Setting values by label\n",
      "\n",
      "\n",
      "df.at[dates[0],'A'] = 0\n",
      "\n",
      "Setting values by position\n",
      "\n",
      "\n",
      "df.iat[0,1] = 0\n",
      "\n",
      "Setting by assigning with a numpy array\n",
      "\n",
      "\n",
      "df.loc[:,'D'] = np.array([5] * len(df))\n",
      "\n",
      "The result of the prior setting operations\n",
      "\n",
      "\n",
      "df\n",
      "\n",
      "A ``where`` operation with setting.\n",
      "\n",
      "\n",
      "df2 = df.copy()\n",
      "df2[df2 > 0] = -df2\n",
      "df2\n",
      "\n",
      "\n",
      "Missing Data\n",
      "------------\n",
      "\n",
      "Pandas primarily uses the value ``np.nan`` to represent missing data. It is by\n",
      "default not included in computations. See the :ref:`Missing Data section\n",
      "<missing_data>`\n",
      "\n",
      "Reindexing allows you to change/add/delete the index on a specified axis. This\n",
      "returns a copy of the data.\n",
      "\n",
      "\n",
      "df1 = df.reindex(index=dates[0:4],columns=list(df.columns) + ['E'])\n",
      "df1.loc[dates[0]:dates[1],'E'] = 1\n",
      "df1\n",
      "\n",
      "To drop any rows that have missing data.\n",
      "\n",
      "\n",
      "df1.dropna(how='any')\n",
      "\n",
      "Filling missing data\n",
      "\n",
      "\n",
      "df1.fillna(value=5)\n",
      "\n",
      "To get the boolean mask where values are ``nan``\n",
      "\n",
      "\n",
      "pd.isnull(df1)\n",
      "\n",
      "\n",
      "Operations\n",
      "----------\n",
      "\n",
      "See the :ref:`Basic section on Binary Ops <basics.binop>`\n",
      "\n",
      "Stats\n",
      "~~~~~\n",
      "\n",
      "Operations in general *exclude* missing data.\n",
      "\n",
      "Performing a descriptive statistic\n",
      "\n",
      "\n",
      "df.mean()\n",
      "\n",
      "Same operation on the other axis\n",
      "\n",
      "\n",
      "df.mean(1)\n",
      "\n",
      "Operating with objects that have different dimensionality and need alignment.\n",
      "In addition, pandas automatically broadcasts along the specified dimension.\n",
      "\n",
      "\n",
      "s = pd.Series([1,3,5,np.nan,6,8],index=dates).shift(2)\n",
      "s\n",
      "df.sub(s,axis='index')\n",
      "\n",
      "\n",
      "Apply\n",
      "~~~~~\n",
      "\n",
      "Applying functions to the data\n",
      "\n",
      "\n",
      "df.apply(np.cumsum)\n",
      "df.apply(lambda x: x.max() - x.min())\n",
      "\n",
      "Histogramming\n",
      "~~~~~~~~~~~~~\n",
      "\n",
      "See more at :ref:`Histogramming and Discretization <basics.discretization>`\n",
      "\n",
      "\n",
      "s = pd.Series(np.random.randint(0,7,size=10))\n",
      "s\n",
      "s.value_counts()\n",
      "\n",
      "String Methods\n",
      "~~~~~~~~~~~~~~\n",
      "\n",
      "See more at :ref:`Vectorized String Methods <basics.string_methods>`\n",
      "\n",
      "\n",
      "s = pd.Series(['A', 'B', 'C', 'Aaba', 'Baca', np.nan, 'CABA', 'dog', 'cat'])\n",
      "s.str.lower()\n",
      "\n",
      "Merge\n",
      "-----\n",
      "\n",
      "Concat\n",
      "~~~~~~\n",
      "\n",
      "Pandas provides various facilities for easily combining together Series,\n",
      "DataFrame, and Panel objects with various kinds of set logic for the indexes\n",
      "and relational algebra functionality in the case of join / merge-type\n",
      "operations.\n",
      "\n",
      "See the :ref:`Merging section <merging>`\n",
      "\n",
      "Concatenating pandas objects together\n",
      "\n",
      "\n",
      "df = pd.DataFrame(np.random.randn(10, 4))\n",
      "df\n",
      "\n",
      "# break it into pieces\n",
      "pieces = [df[:3], df[3:7], df[7:]]\n",
      "\n",
      "pd.concat(pieces)\n",
      "\n",
      "Join\n",
      "~~~~\n",
      "\n",
      "SQL style merges. See the :ref:`Database style joining <merging.join>`\n",
      "\n",
      "\n",
      "left = pd.DataFrame({'key': ['foo', 'foo'], 'lval': [1, 2]})\n",
      "right = pd.DataFrame({'key': ['foo', 'foo'], 'rval': [4, 5]})\n",
      "left\n",
      "right\n",
      "pd.merge(left, right, on='key')\n",
      "\n",
      "Append\n",
      "~~~~~~\n",
      "\n",
      "Append rows to a dataframe. See the :ref:`Appending <merging.concatenation>`\n",
      "\n",
      "\n",
      "df = pd.DataFrame(np.random.randn(8, 4), columns=['A','B','C','D'])\n",
      "df\n",
      "s = df.iloc[3]\n",
      "df.append(s, ignore_index=True)\n",
      "\n",
      "\n",
      "Grouping\n",
      "--------\n",
      "\n",
      "By \"group by\" we are referring to a process involving one or more of the\n",
      "following steps\n",
      "\n",
      " - **Splitting** the data into groups based on some criteria\n",
      " - **Applying** a function to each group independently\n",
      " - **Combining** the results into a data structure\n",
      "\n",
      "See the :ref:`Grouping section <groupby>`\n",
      "\n",
      "\n",
      "df = pd.DataFrame({'A' : ['foo', 'bar', 'foo', 'bar',\n",
      "                         'foo', 'bar', 'foo', 'foo'],\n",
      "                   'B' : ['one', 'one', 'two', 'three',\n",
      "                         'two', 'two', 'one', 'three'],\n",
      "                   'C' : np.random.randn(8),\n",
      "                   'D' : np.random.randn(8)})\n",
      "df\n",
      "\n",
      "Grouping and then applying a function ``sum`` to the resulting groups.\n",
      "\n",
      "\n",
      "df.groupby('A').sum()\n",
      "\n",
      "Grouping by multiple columns forms a hierarchical index, which we then apply\n",
      "the function.\n",
      "\n",
      "\n",
      "df.groupby(['A','B']).sum()\n",
      "\n",
      "Reshaping\n",
      "---------\n",
      "\n",
      "See the section on :ref:`Hierarchical Indexing <indexing.hierarchical>` and\n",
      "see the section on :ref:`Reshaping <reshaping.stacking>`).\n",
      "\n",
      "Stack\n",
      "~~~~~\n",
      "\n",
      "\n",
      "tuples = list(zip(*[['bar', 'bar', 'baz', 'baz',\n",
      "                     'foo', 'foo', 'qux', 'qux'],\n",
      "                    ['one', 'two', 'one', 'two',\n",
      "                     'one', 'two', 'one', 'two']]))\n",
      "index = pd.MultiIndex.from_tuples(tuples, names=['first', 'second'])\n",
      "df = pd.DataFrame(np.random.randn(8, 2), index=index, columns=['A', 'B'])\n",
      "df2 = df[:4]\n",
      "df2\n",
      "\n",
      "The ``stack`` function \"compresses\" a level in the DataFrame's columns.\n",
      "\n",
      "\n",
      "stacked = df2.stack()\n",
      "stacked\n",
      "\n",
      "With a \"stacked\" DataFrame or Series (having a ``MultiIndex`` as the\n",
      "``index``), the inverse operation of ``stack`` is ``unstack``, which by default\n",
      "unstacks the **last level**:\n",
      "\n",
      "\n",
      "stacked.unstack()\n",
      "stacked.unstack(1)\n",
      "stacked.unstack(0)\n",
      "\n",
      "Pivot Tables\n",
      "~~~~~~~~~~~~\n",
      "See the section on :ref:`Pivot Tables <reshaping.pivot>`.\n",
      "\n",
      "\n",
      "df = pd.DataFrame({'A' : ['one', 'one', 'two', 'three'] * 3,\n",
      "                   'B' : ['A', 'B', 'C'] * 4,\n",
      "                   'C' : ['foo', 'foo', 'foo', 'bar', 'bar', 'bar'] * 2,\n",
      "                   'D' : np.random.randn(12),\n",
      "                   'E' : np.random.randn(12)})\n",
      "df\n",
      "\n",
      "We can produce pivot tables from this data very easily:\n",
      "\n",
      "\n",
      "pd.pivot_table(df, values='D', rows=['A', 'B'], cols=['C'])\n",
      "\n",
      "\n",
      "Time Series\n",
      "-----------\n",
      "\n",
      "Pandas has simple, powerful, and efficient functionality for performing\n",
      "resampling operations during frequency conversion (e.g., converting secondly\n",
      "data into 5-minutely data). This is extremely common in, but not limited to,\n",
      "financial applications. See the :ref:`Time Series section <timeseries>`\n",
      "\n",
      "\n",
      "rng = pd.date_range('1/1/2012', periods=100, freq='S')\n",
      "ts = pd.Series(np.random.randint(0, 500, len(rng)), index=rng)\n",
      "ts.resample('5Min', how='sum')\n",
      "\n",
      "Time zone representation\n",
      "\n",
      "\n",
      "rng = pd.date_range('3/6/2012 00:00', periods=5, freq='D')\n",
      "ts = pd.Series(np.random.randn(len(rng)), rng)\n",
      "ts\n",
      "ts_utc = ts.tz_localize('UTC')\n",
      "ts_utc\n",
      "\n",
      "Convert to another time zone\n",
      "\n",
      "\n",
      "ts_utc.tz_convert('US/Eastern')\n",
      "\n",
      "Converting between time span representations\n",
      "\n",
      "\n",
      "rng = pd.date_range('1/1/2012', periods=5, freq='M')\n",
      "ts = pd.Series(np.random.randn(len(rng)), index=rng)\n",
      "ts\n",
      "ps = ts.to_period()\n",
      "ps\n",
      "ps.to_timestamp()\n",
      "\n",
      "Converting between period and timestamp enables some convenient arithmetic\n",
      "functions to be used. In the following example, we convert a quarterly\n",
      "frequency with year ending in November to 9am of the end of the month following\n",
      "the quarter end:\n",
      "\n",
      "\n",
      "prng = pd.period_range('1990Q1', '2000Q4', freq='Q-NOV')\n",
      "ts = pd.Series(np.random.randn(len(prng)), prng)\n",
      "ts.index = (prng.asfreq('M', 'e') + 1).asfreq('H', 's') + 9\n",
      "ts.head()\n",
      "\n",
      "\n",
      "Plotting\n",
      "--------\n",
      "\n",
      ":ref:`Plotting <visualization>` docs.\n",
      "\n",
      ":suppress:\n",
      "\n",
      "import matplotlib.pyplot as plt\n",
      "plt.close('all')\n",
      "from pandas import options\n",
      "options.display.mpl_style='default'\n",
      "\n",
      "\n",
      "ts = pd.Series(np.random.randn(1000), index=pd.date_range('1/1/2000', periods=1000))\n",
      "ts = ts.cumsum()\n",
      "\n",
      "@savefig series_plot_basic.png\n",
      "ts.plot()\n",
      "\n",
      "On DataFrame, ``plot`` is a convenience to plot all of the columns with labels:\n",
      "\n",
      "\n",
      "df = pd.DataFrame(np.random.randn(1000, 4), index=ts.index,\n",
      "                  columns=['A', 'B', 'C', 'D'])\n",
      "df = df.cumsum()\n",
      "\n",
      "@savefig frame_plot_basic.png\n",
      "plt.figure(); df.plot(); plt.legend(loc='best')\n",
      "\n",
      "Getting Data In/Out\n",
      "-------------------\n",
      "\n",
      "CSV\n",
      "~~~\n",
      "\n",
      ":ref:`Writing to a csv file <io.store_in_csv>`\n",
      "\n",
      "\n",
      "df.to_csv('foo.csv')\n",
      "\n",
      ":ref:`Reading from a csv file <io.read_csv_table>`\n",
      "\n",
      "\n",
      "pd.read_csv('foo.csv')\n",
      "\n",
      ":suppress:\n",
      "\n",
      "os.remove('foo.csv')\n",
      "\n",
      "HDF5\n",
      "~~~~\n",
      "\n",
      "Reading and writing to :ref:`HDFStores <io.hdf5>`\n",
      "\n",
      "Writing to a HDF5 Store\n",
      "\n",
      "\n",
      "df.to_hdf('foo.h5','df')\n",
      "\n",
      "Reading from a HDF5 Store\n",
      "\n",
      "\n",
      "pd.read_hdf('foo.h5','df')\n",
      "\n",
      ":suppress:\n",
      "\n",
      "os.remove('foo.h5')\n",
      "\n",
      "Excel\n",
      "~~~~~\n",
      "\n",
      "Reading and writing to :ref:`MS Excel <io.excel>`\n",
      "\n",
      "Writing to an excel file\n",
      "\n",
      "\n",
      "df.to_excel('foo.xlsx', sheet_name='Sheet1')\n",
      "\n",
      "Reading from an excel file\n",
      "\n",
      "\n",
      "pd.read_excel('foo.xlsx', 'Sheet1', index_col=None, na_values=['NA'])\n",
      "\n",
      ":suppress:\n",
      "\n",
      "os.remove('foo.xlsx')\n",
      "\n",
      "Gotchas\n",
      "-------\n",
      "\n",
      "If you are trying an operation and you see an exception like:\n",
      "\n",
      "\n",
      " >>> if pd.Series([False, True, False]):\n",
      "     print(\"I was true\")\n",
      " Traceback\n",
      "     ...\n",
      " ValueError: The truth value of an array is ambiguous. Use a.empty, a.any() or a.all().\n",
      "\n",
      "See :ref:`Comparisons<basics.compare>` for an explanation and what to do.\n",
      "\n",
      "See :ref:`Gotchas<gotchas>` as well."
     ],
     "language": "python",
     "metadata": {},
     "outputs": []
    }
   ],
   "metadata": {}
  }
 ]
}